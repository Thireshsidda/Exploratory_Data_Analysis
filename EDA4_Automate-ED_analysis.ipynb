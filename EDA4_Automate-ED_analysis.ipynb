{
 "cells": [
  {
   "cell_type": "markdown",
   "id": "50db46e4",
   "metadata": {},
   "source": [
    "### Automated EDA Techniques"
   ]
  },
  {
   "cell_type": "markdown",
   "id": "c6043f5c",
   "metadata": {},
   "source": [
    "# panads_profiling"
   ]
  },
  {
   "cell_type": "code",
   "execution_count": 1,
   "id": "a8f04cea",
   "metadata": {},
   "outputs": [
    {
     "name": "stdout",
     "output_type": "stream",
     "text": [
      "Requirement already satisfied: pandas_profiling in c:\\users\\thiresh sidda\\anaconda3\\lib\\site-packages (3.1.0)\n",
      "Requirement already satisfied: missingno>=0.4.2 in c:\\users\\thiresh sidda\\anaconda3\\lib\\site-packages (from pandas_profiling) (0.4.2)\n",
      "Requirement already satisfied: pydantic>=1.8.1 in c:\\users\\thiresh sidda\\anaconda3\\lib\\site-packages (from pandas_profiling) (1.9.0)\n",
      "Requirement already satisfied: scipy>=1.4.1 in c:\\users\\thiresh sidda\\anaconda3\\lib\\site-packages (from pandas_profiling) (1.7.1)\n",
      "Requirement already satisfied: tangled-up-in-unicode==0.1.0 in c:\\users\\thiresh sidda\\anaconda3\\lib\\site-packages (from pandas_profiling) (0.1.0)\n",
      "Requirement already satisfied: PyYAML>=5.0.0 in c:\\users\\thiresh sidda\\anaconda3\\lib\\site-packages (from pandas_profiling) (6.0)\n",
      "Requirement already satisfied: requests>=2.24.0 in c:\\users\\thiresh sidda\\anaconda3\\lib\\site-packages (from pandas_profiling) (2.26.0)\n",
      "Requirement already satisfied: seaborn>=0.10.1 in c:\\users\\thiresh sidda\\anaconda3\\lib\\site-packages (from pandas_profiling) (0.11.2)\n",
      "Requirement already satisfied: markupsafe~=2.0.1 in c:\\users\\thiresh sidda\\anaconda3\\lib\\site-packages (from pandas_profiling) (2.0.1)\n",
      "Requirement already satisfied: numpy>=1.16.0 in c:\\users\\thiresh sidda\\anaconda3\\lib\\site-packages (from pandas_profiling) (1.20.3)\n",
      "Requirement already satisfied: htmlmin>=0.1.12 in c:\\users\\thiresh sidda\\anaconda3\\lib\\site-packages (from pandas_profiling) (0.1.12)\n",
      "Requirement already satisfied: pandas!=1.0.0,!=1.0.1,!=1.0.2,!=1.1.0,>=0.25.3 in c:\\users\\thiresh sidda\\anaconda3\\lib\\site-packages (from pandas_profiling) (1.3.4)\n",
      "Requirement already satisfied: multimethod>=1.4 in c:\\users\\thiresh sidda\\anaconda3\\lib\\site-packages (from pandas_profiling) (1.8)\n",
      "Requirement already satisfied: visions[type_image_path]==0.7.4 in c:\\users\\thiresh sidda\\anaconda3\\lib\\site-packages (from pandas_profiling) (0.7.4)\n",
      "Requirement already satisfied: jinja2>=2.11.1 in c:\\users\\thiresh sidda\\anaconda3\\lib\\site-packages (from pandas_profiling) (2.11.3)\n",
      "Requirement already satisfied: joblib~=1.0.1 in c:\\users\\thiresh sidda\\anaconda3\\lib\\site-packages (from pandas_profiling) (1.0.1)\n",
      "Requirement already satisfied: tqdm>=4.48.2 in c:\\users\\thiresh sidda\\anaconda3\\lib\\site-packages (from pandas_profiling) (4.62.3)\n",
      "Requirement already satisfied: matplotlib>=3.2.0 in c:\\users\\thiresh sidda\\anaconda3\\lib\\site-packages (from pandas_profiling) (3.4.3)\n",
      "Requirement already satisfied: phik>=0.11.1 in c:\\users\\thiresh sidda\\anaconda3\\lib\\site-packages (from pandas_profiling) (0.12.2)\n",
      "Requirement already satisfied: attrs>=19.3.0 in c:\\users\\thiresh sidda\\anaconda3\\lib\\site-packages (from visions[type_image_path]==0.7.4->pandas_profiling) (21.2.0)\n",
      "Requirement already satisfied: networkx>=2.4 in c:\\users\\thiresh sidda\\anaconda3\\lib\\site-packages (from visions[type_image_path]==0.7.4->pandas_profiling) (2.6.3)\n",
      "Requirement already satisfied: Pillow in c:\\users\\thiresh sidda\\anaconda3\\lib\\site-packages (from visions[type_image_path]==0.7.4->pandas_profiling) (8.4.0)\n",
      "Requirement already satisfied: imagehash in c:\\users\\thiresh sidda\\anaconda3\\lib\\site-packages (from visions[type_image_path]==0.7.4->pandas_profiling) (4.2.1)\n",
      "Requirement already satisfied: cycler>=0.10 in c:\\users\\thiresh sidda\\anaconda3\\lib\\site-packages (from matplotlib>=3.2.0->pandas_profiling) (0.10.0)\n",
      "Requirement already satisfied: kiwisolver>=1.0.1 in c:\\users\\thiresh sidda\\anaconda3\\lib\\site-packages (from matplotlib>=3.2.0->pandas_profiling) (1.3.1)\n",
      "Requirement already satisfied: python-dateutil>=2.7 in c:\\users\\thiresh sidda\\anaconda3\\lib\\site-packages (from matplotlib>=3.2.0->pandas_profiling) (2.8.2)\n",
      "Requirement already satisfied: pyparsing>=2.2.1 in c:\\users\\thiresh sidda\\anaconda3\\lib\\site-packages (from matplotlib>=3.2.0->pandas_profiling) (3.0.4)\n",
      "Requirement already satisfied: six in c:\\users\\thiresh sidda\\anaconda3\\lib\\site-packages (from cycler>=0.10->matplotlib>=3.2.0->pandas_profiling) (1.16.0)\n",
      "Requirement already satisfied: pytz>=2017.3 in c:\\users\\thiresh sidda\\anaconda3\\lib\\site-packages (from pandas!=1.0.0,!=1.0.1,!=1.0.2,!=1.1.0,>=0.25.3->pandas_profiling) (2021.3)\n",
      "Requirement already satisfied: typing-extensions>=3.7.4.3 in c:\\users\\thiresh sidda\\anaconda3\\lib\\site-packages (from pydantic>=1.8.1->pandas_profiling) (3.10.0.2)\n",
      "Requirement already satisfied: urllib3<1.27,>=1.21.1 in c:\\users\\thiresh sidda\\anaconda3\\lib\\site-packages (from requests>=2.24.0->pandas_profiling) (1.26.7)\n",
      "Requirement already satisfied: charset-normalizer~=2.0.0 in c:\\users\\thiresh sidda\\anaconda3\\lib\\site-packages (from requests>=2.24.0->pandas_profiling) (2.0.4)\n",
      "Requirement already satisfied: idna<4,>=2.5 in c:\\users\\thiresh sidda\\anaconda3\\lib\\site-packages (from requests>=2.24.0->pandas_profiling) (3.2)\n",
      "Requirement already satisfied: certifi>=2017.4.17 in c:\\users\\thiresh sidda\\anaconda3\\lib\\site-packages (from requests>=2.24.0->pandas_profiling) (2021.10.8)\n",
      "Requirement already satisfied: colorama in c:\\users\\thiresh sidda\\anaconda3\\lib\\site-packages (from tqdm>=4.48.2->pandas_profiling) (0.4.4)\n",
      "Requirement already satisfied: PyWavelets in c:\\users\\thiresh sidda\\anaconda3\\lib\\site-packages (from imagehash->visions[type_image_path]==0.7.4->pandas_profiling) (1.1.1)\n"
     ]
    }
   ],
   "source": [
    "#Insatlling pandas_profile Library\n",
    "!pip install pandas_profiling"
   ]
  },
  {
   "cell_type": "code",
   "execution_count": 2,
   "id": "02679c3b",
   "metadata": {},
   "outputs": [],
   "source": [
    "import pandas_profiling"
   ]
  },
  {
   "cell_type": "code",
   "execution_count": 3,
   "id": "b5a6f22f",
   "metadata": {},
   "outputs": [],
   "source": [
    "import seaborn as sns"
   ]
  },
  {
   "cell_type": "code",
   "execution_count": 4,
   "id": "38eb06b5",
   "metadata": {},
   "outputs": [
    {
     "data": {
      "text/plain": [
       "['anagrams',\n",
       " 'anscombe',\n",
       " 'attention',\n",
       " 'brain_networks',\n",
       " 'car_crashes',\n",
       " 'diamonds',\n",
       " 'dots',\n",
       " 'exercise',\n",
       " 'flights',\n",
       " 'fmri',\n",
       " 'gammas',\n",
       " 'geyser',\n",
       " 'iris',\n",
       " 'mpg',\n",
       " 'penguins',\n",
       " 'planets',\n",
       " 'taxis',\n",
       " 'tips',\n",
       " 'titanic']"
      ]
     },
     "execution_count": 4,
     "metadata": {},
     "output_type": "execute_result"
    }
   ],
   "source": [
    "sns.get_dataset_names()"
   ]
  },
  {
   "cell_type": "code",
   "execution_count": 5,
   "id": "7f92c93b",
   "metadata": {},
   "outputs": [],
   "source": [
    "df=sns.load_dataset('tips')"
   ]
  },
  {
   "cell_type": "code",
   "execution_count": 6,
   "id": "a6fdee90",
   "metadata": {},
   "outputs": [
    {
     "data": {
      "text/html": [
       "<div>\n",
       "<style scoped>\n",
       "    .dataframe tbody tr th:only-of-type {\n",
       "        vertical-align: middle;\n",
       "    }\n",
       "\n",
       "    .dataframe tbody tr th {\n",
       "        vertical-align: top;\n",
       "    }\n",
       "\n",
       "    .dataframe thead th {\n",
       "        text-align: right;\n",
       "    }\n",
       "</style>\n",
       "<table border=\"1\" class=\"dataframe\">\n",
       "  <thead>\n",
       "    <tr style=\"text-align: right;\">\n",
       "      <th></th>\n",
       "      <th>total_bill</th>\n",
       "      <th>tip</th>\n",
       "      <th>sex</th>\n",
       "      <th>smoker</th>\n",
       "      <th>day</th>\n",
       "      <th>time</th>\n",
       "      <th>size</th>\n",
       "    </tr>\n",
       "  </thead>\n",
       "  <tbody>\n",
       "    <tr>\n",
       "      <th>0</th>\n",
       "      <td>16.99</td>\n",
       "      <td>1.01</td>\n",
       "      <td>Female</td>\n",
       "      <td>No</td>\n",
       "      <td>Sun</td>\n",
       "      <td>Dinner</td>\n",
       "      <td>2</td>\n",
       "    </tr>\n",
       "    <tr>\n",
       "      <th>1</th>\n",
       "      <td>10.34</td>\n",
       "      <td>1.66</td>\n",
       "      <td>Male</td>\n",
       "      <td>No</td>\n",
       "      <td>Sun</td>\n",
       "      <td>Dinner</td>\n",
       "      <td>3</td>\n",
       "    </tr>\n",
       "    <tr>\n",
       "      <th>2</th>\n",
       "      <td>21.01</td>\n",
       "      <td>3.50</td>\n",
       "      <td>Male</td>\n",
       "      <td>No</td>\n",
       "      <td>Sun</td>\n",
       "      <td>Dinner</td>\n",
       "      <td>3</td>\n",
       "    </tr>\n",
       "    <tr>\n",
       "      <th>3</th>\n",
       "      <td>23.68</td>\n",
       "      <td>3.31</td>\n",
       "      <td>Male</td>\n",
       "      <td>No</td>\n",
       "      <td>Sun</td>\n",
       "      <td>Dinner</td>\n",
       "      <td>2</td>\n",
       "    </tr>\n",
       "    <tr>\n",
       "      <th>4</th>\n",
       "      <td>24.59</td>\n",
       "      <td>3.61</td>\n",
       "      <td>Female</td>\n",
       "      <td>No</td>\n",
       "      <td>Sun</td>\n",
       "      <td>Dinner</td>\n",
       "      <td>4</td>\n",
       "    </tr>\n",
       "    <tr>\n",
       "      <th>...</th>\n",
       "      <td>...</td>\n",
       "      <td>...</td>\n",
       "      <td>...</td>\n",
       "      <td>...</td>\n",
       "      <td>...</td>\n",
       "      <td>...</td>\n",
       "      <td>...</td>\n",
       "    </tr>\n",
       "    <tr>\n",
       "      <th>239</th>\n",
       "      <td>29.03</td>\n",
       "      <td>5.92</td>\n",
       "      <td>Male</td>\n",
       "      <td>No</td>\n",
       "      <td>Sat</td>\n",
       "      <td>Dinner</td>\n",
       "      <td>3</td>\n",
       "    </tr>\n",
       "    <tr>\n",
       "      <th>240</th>\n",
       "      <td>27.18</td>\n",
       "      <td>2.00</td>\n",
       "      <td>Female</td>\n",
       "      <td>Yes</td>\n",
       "      <td>Sat</td>\n",
       "      <td>Dinner</td>\n",
       "      <td>2</td>\n",
       "    </tr>\n",
       "    <tr>\n",
       "      <th>241</th>\n",
       "      <td>22.67</td>\n",
       "      <td>2.00</td>\n",
       "      <td>Male</td>\n",
       "      <td>Yes</td>\n",
       "      <td>Sat</td>\n",
       "      <td>Dinner</td>\n",
       "      <td>2</td>\n",
       "    </tr>\n",
       "    <tr>\n",
       "      <th>242</th>\n",
       "      <td>17.82</td>\n",
       "      <td>1.75</td>\n",
       "      <td>Male</td>\n",
       "      <td>No</td>\n",
       "      <td>Sat</td>\n",
       "      <td>Dinner</td>\n",
       "      <td>2</td>\n",
       "    </tr>\n",
       "    <tr>\n",
       "      <th>243</th>\n",
       "      <td>18.78</td>\n",
       "      <td>3.00</td>\n",
       "      <td>Female</td>\n",
       "      <td>No</td>\n",
       "      <td>Thur</td>\n",
       "      <td>Dinner</td>\n",
       "      <td>2</td>\n",
       "    </tr>\n",
       "  </tbody>\n",
       "</table>\n",
       "<p>244 rows × 7 columns</p>\n",
       "</div>"
      ],
      "text/plain": [
       "     total_bill   tip     sex smoker   day    time  size\n",
       "0         16.99  1.01  Female     No   Sun  Dinner     2\n",
       "1         10.34  1.66    Male     No   Sun  Dinner     3\n",
       "2         21.01  3.50    Male     No   Sun  Dinner     3\n",
       "3         23.68  3.31    Male     No   Sun  Dinner     2\n",
       "4         24.59  3.61  Female     No   Sun  Dinner     4\n",
       "..          ...   ...     ...    ...   ...     ...   ...\n",
       "239       29.03  5.92    Male     No   Sat  Dinner     3\n",
       "240       27.18  2.00  Female    Yes   Sat  Dinner     2\n",
       "241       22.67  2.00    Male    Yes   Sat  Dinner     2\n",
       "242       17.82  1.75    Male     No   Sat  Dinner     2\n",
       "243       18.78  3.00  Female     No  Thur  Dinner     2\n",
       "\n",
       "[244 rows x 7 columns]"
      ]
     },
     "execution_count": 6,
     "metadata": {},
     "output_type": "execute_result"
    }
   ],
   "source": [
    "df"
   ]
  },
  {
   "cell_type": "code",
   "execution_count": 7,
   "id": "982133cf",
   "metadata": {},
   "outputs": [],
   "source": [
    "from pandas_profiling import ProfileReport"
   ]
  },
  {
   "cell_type": "code",
   "execution_count": 8,
   "id": "b3752d4b",
   "metadata": {},
   "outputs": [],
   "source": [
    "profile=ProfileReport(df,explorative=True,dark_mode=True)"
   ]
  },
  {
   "cell_type": "code",
   "execution_count": 9,
   "id": "7e70e181",
   "metadata": {},
   "outputs": [
    {
     "data": {
      "application/vnd.jupyter.widget-view+json": {
       "model_id": "ee1c1af7eee5475192a70d8f55ec6dc8",
       "version_major": 2,
       "version_minor": 0
      },
      "text/plain": [
       "Summarize dataset:   0%|          | 0/5 [00:00<?, ?it/s]"
      ]
     },
     "metadata": {},
     "output_type": "display_data"
    },
    {
     "data": {
      "application/vnd.jupyter.widget-view+json": {
       "model_id": "0ee96cc710264fe5a18920eba872486a",
       "version_major": 2,
       "version_minor": 0
      },
      "text/plain": [
       "Generate report structure:   0%|          | 0/1 [00:00<?, ?it/s]"
      ]
     },
     "metadata": {},
     "output_type": "display_data"
    },
    {
     "data": {
      "application/vnd.jupyter.widget-view+json": {
       "model_id": "801a8d159d9646bf8ab6af1579c024fa",
       "version_major": 2,
       "version_minor": 0
      },
      "text/plain": [
       "Render HTML:   0%|          | 0/1 [00:00<?, ?it/s]"
      ]
     },
     "metadata": {},
     "output_type": "display_data"
    },
    {
     "data": {
      "application/vnd.jupyter.widget-view+json": {
       "model_id": "3f60932747fc4132a0205c3e8458cd69",
       "version_major": 2,
       "version_minor": 0
      },
      "text/plain": [
       "Export report to file:   0%|          | 0/1 [00:00<?, ?it/s]"
      ]
     },
     "metadata": {},
     "output_type": "display_data"
    }
   ],
   "source": [
    "profile.to_file('output.html')"
   ]
  },
  {
   "cell_type": "markdown",
   "id": "9f9a5a18",
   "metadata": {},
   "source": [
    "# detale\n"
   ]
  },
  {
   "cell_type": "code",
   "execution_count": 10,
   "id": "8938a0fc",
   "metadata": {},
   "outputs": [
    {
     "name": "stdout",
     "output_type": "stream",
     "text": [
      "Requirement already satisfied: dtale in c:\\users\\thiresh sidda\\anaconda3\\lib\\site-packages (2.2.0)\n",
      "Requirement already satisfied: flask-ngrok in c:\\users\\thiresh sidda\\anaconda3\\lib\\site-packages (from dtale) (0.0.25)\n",
      "Requirement already satisfied: et-xmlfile in c:\\users\\thiresh sidda\\anaconda3\\lib\\site-packages (from dtale) (1.1.0)\n",
      "Requirement already satisfied: scipy in c:\\users\\thiresh sidda\\anaconda3\\lib\\site-packages (from dtale) (1.7.1)\n",
      "Requirement already satisfied: dash-daq in c:\\users\\thiresh sidda\\anaconda3\\lib\\site-packages (from dtale) (0.5.0)\n",
      "Requirement already satisfied: kaleido in c:\\users\\thiresh sidda\\anaconda3\\lib\\site-packages (from dtale) (0.2.1)\n",
      "Requirement already satisfied: dash-bootstrap-components in c:\\users\\thiresh sidda\\anaconda3\\lib\\site-packages (from dtale) (1.1.0)\n",
      "Requirement already satisfied: dash-colorscales in c:\\users\\thiresh sidda\\anaconda3\\lib\\site-packages (from dtale) (0.0.4)\n",
      "Requirement already satisfied: xarray in c:\\users\\thiresh sidda\\anaconda3\\lib\\site-packages (from dtale) (2022.3.0)\n",
      "Requirement already satisfied: seaborn in c:\\users\\thiresh sidda\\anaconda3\\lib\\site-packages (from dtale) (0.11.2)\n",
      "Requirement already satisfied: itsdangerous in c:\\users\\thiresh sidda\\anaconda3\\lib\\site-packages (from dtale) (2.0.1)\n",
      "Requirement already satisfied: missingno<=0.4.2 in c:\\users\\thiresh sidda\\anaconda3\\lib\\site-packages (from dtale) (0.4.2)\n",
      "Requirement already satisfied: scikit-learn==0.24.2 in c:\\users\\thiresh sidda\\anaconda3\\lib\\site-packages (from dtale) (0.24.2)\n",
      "Requirement already satisfied: xlrd in c:\\users\\thiresh sidda\\anaconda3\\lib\\site-packages (from dtale) (2.0.1)\n",
      "Requirement already satisfied: pandas in c:\\users\\thiresh sidda\\anaconda3\\lib\\site-packages (from dtale) (1.3.4)\n",
      "Requirement already satisfied: cycler in c:\\users\\thiresh sidda\\anaconda3\\lib\\site-packages (from dtale) (0.10.0)\n",
      "Requirement already satisfied: networkx in c:\\users\\thiresh sidda\\anaconda3\\lib\\site-packages (from dtale) (2.6.3)\n",
      "Requirement already satisfied: statsmodels in c:\\users\\thiresh sidda\\anaconda3\\lib\\site-packages (from dtale) (0.12.2)\n",
      "Requirement already satisfied: squarify in c:\\users\\thiresh sidda\\anaconda3\\lib\\site-packages (from dtale) (0.4.3)\n",
      "Requirement already satisfied: six in c:\\users\\thiresh sidda\\anaconda3\\lib\\site-packages (from dtale) (1.16.0)\n",
      "Requirement already satisfied: openpyxl in c:\\users\\thiresh sidda\\anaconda3\\lib\\site-packages (from dtale) (3.0.9)\n",
      "Requirement already satisfied: dash>=2.0.0 in c:\\users\\thiresh sidda\\anaconda3\\lib\\site-packages (from dtale) (2.3.1)\n",
      "Requirement already satisfied: requests in c:\\users\\thiresh sidda\\anaconda3\\lib\\site-packages (from dtale) (2.26.0)\n",
      "Requirement already satisfied: future>=0.14.0 in c:\\users\\thiresh sidda\\anaconda3\\lib\\site-packages (from dtale) (0.18.2)\n",
      "Requirement already satisfied: numpy in c:\\users\\thiresh sidda\\anaconda3\\lib\\site-packages (from dtale) (1.20.3)\n",
      "Requirement already satisfied: lz4 in c:\\users\\thiresh sidda\\anaconda3\\lib\\site-packages (from dtale) (4.0.0)\n",
      "Requirement already satisfied: plotly>=5.0.0 in c:\\users\\thiresh sidda\\anaconda3\\lib\\site-packages (from dtale) (5.7.0)\n",
      "Requirement already satisfied: ppscore in c:\\users\\thiresh sidda\\anaconda3\\lib\\site-packages (from dtale) (1.2.0)\n",
      "Requirement already satisfied: Flask in c:\\users\\thiresh sidda\\anaconda3\\lib\\site-packages (from dtale) (1.1.2)\n",
      "Requirement already satisfied: matplotlib in c:\\users\\thiresh sidda\\anaconda3\\lib\\site-packages (from dtale) (3.4.3)\n",
      "Requirement already satisfied: Flask-Compress in c:\\users\\thiresh sidda\\anaconda3\\lib\\site-packages (from dtale) (1.12)\n",
      "Requirement already satisfied: strsimpy in c:\\users\\thiresh sidda\\anaconda3\\lib\\site-packages (from dtale) (0.2.1)\n",
      "Requirement already satisfied: threadpoolctl>=2.0.0 in c:\\users\\thiresh sidda\\anaconda3\\lib\\site-packages (from scikit-learn==0.24.2->dtale) (2.2.0)\n",
      "Requirement already satisfied: joblib>=0.11 in c:\\users\\thiresh sidda\\anaconda3\\lib\\site-packages (from scikit-learn==0.24.2->dtale) (1.0.1)\n",
      "Requirement already satisfied: dash-html-components==2.0.0 in c:\\users\\thiresh sidda\\anaconda3\\lib\\site-packages (from dash>=2.0.0->dtale) (2.0.0)\n",
      "Requirement already satisfied: dash-table==5.0.0 in c:\\users\\thiresh sidda\\anaconda3\\lib\\site-packages (from dash>=2.0.0->dtale) (5.0.0)\n",
      "Requirement already satisfied: dash-core-components==2.0.0 in c:\\users\\thiresh sidda\\anaconda3\\lib\\site-packages (from dash>=2.0.0->dtale) (2.0.0)\n",
      "Requirement already satisfied: click>=5.1 in c:\\users\\thiresh sidda\\anaconda3\\lib\\site-packages (from Flask->dtale) (8.0.3)\n",
      "Requirement already satisfied: Werkzeug>=0.15 in c:\\users\\thiresh sidda\\anaconda3\\lib\\site-packages (from Flask->dtale) (2.0.2)\n",
      "Requirement already satisfied: Jinja2>=2.10.1 in c:\\users\\thiresh sidda\\anaconda3\\lib\\site-packages (from Flask->dtale) (2.11.3)\n",
      "Requirement already satisfied: colorama in c:\\users\\thiresh sidda\\anaconda3\\lib\\site-packages (from click>=5.1->Flask->dtale) (0.4.4)\n",
      "Requirement already satisfied: MarkupSafe>=0.23 in c:\\users\\thiresh sidda\\anaconda3\\lib\\site-packages (from Jinja2>=2.10.1->Flask->dtale) (2.0.1)\n",
      "Requirement already satisfied: tenacity>=6.2.0 in c:\\users\\thiresh sidda\\anaconda3\\lib\\site-packages (from plotly>=5.0.0->dtale) (8.0.1)\n",
      "Requirement already satisfied: brotli in c:\\users\\thiresh sidda\\anaconda3\\lib\\site-packages (from Flask-Compress->dtale) (1.0.9)\n",
      "Requirement already satisfied: python-dateutil>=2.7 in c:\\users\\thiresh sidda\\anaconda3\\lib\\site-packages (from matplotlib->dtale) (2.8.2)\n",
      "Requirement already satisfied: pillow>=6.2.0 in c:\\users\\thiresh sidda\\anaconda3\\lib\\site-packages (from matplotlib->dtale) (8.4.0)\n",
      "Requirement already satisfied: kiwisolver>=1.0.1 in c:\\users\\thiresh sidda\\anaconda3\\lib\\site-packages (from matplotlib->dtale) (1.3.1)\n",
      "Requirement already satisfied: pyparsing>=2.2.1 in c:\\users\\thiresh sidda\\anaconda3\\lib\\site-packages (from matplotlib->dtale) (3.0.4)\n",
      "Requirement already satisfied: pytz>=2017.3 in c:\\users\\thiresh sidda\\anaconda3\\lib\\site-packages (from pandas->dtale) (2021.3)\n",
      "Requirement already satisfied: certifi>=2017.4.17 in c:\\users\\thiresh sidda\\anaconda3\\lib\\site-packages (from requests->dtale) (2021.10.8)\n",
      "Requirement already satisfied: charset-normalizer~=2.0.0 in c:\\users\\thiresh sidda\\anaconda3\\lib\\site-packages (from requests->dtale) (2.0.4)\n",
      "Requirement already satisfied: idna<4,>=2.5 in c:\\users\\thiresh sidda\\anaconda3\\lib\\site-packages (from requests->dtale) (3.2)\n",
      "Requirement already satisfied: urllib3<1.27,>=1.21.1 in c:\\users\\thiresh sidda\\anaconda3\\lib\\site-packages (from requests->dtale) (1.26.7)\n",
      "Requirement already satisfied: patsy>=0.5 in c:\\users\\thiresh sidda\\anaconda3\\lib\\site-packages (from statsmodels->dtale) (0.5.2)\n",
      "Requirement already satisfied: packaging>=20.0 in c:\\users\\thiresh sidda\\anaconda3\\lib\\site-packages (from xarray->dtale) (21.0)\n"
     ]
    }
   ],
   "source": [
    "#detale\n",
    "!pip install dtale"
   ]
  },
  {
   "cell_type": "code",
   "execution_count": 11,
   "id": "03ca964d",
   "metadata": {},
   "outputs": [],
   "source": [
    "df=sns.load_dataset('titanic')"
   ]
  },
  {
   "cell_type": "code",
   "execution_count": 12,
   "id": "7b294aa2",
   "metadata": {},
   "outputs": [
    {
     "data": {
      "text/html": [
       "\n",
       "        <iframe\n",
       "            width=\"100%\"\n",
       "            height=\"475\"\n",
       "            src=\"http://LAPTOP-P8HCEFSP:40000/dtale/iframe/1\"\n",
       "            frameborder=\"0\"\n",
       "            allowfullscreen\n",
       "            \n",
       "        ></iframe>\n",
       "        "
      ],
      "text/plain": [
       "<IPython.lib.display.IFrame at 0x1daf5e67910>"
      ]
     },
     "metadata": {},
     "output_type": "display_data"
    },
    {
     "data": {
      "text/plain": []
     },
     "execution_count": 12,
     "metadata": {},
     "output_type": "execute_result"
    }
   ],
   "source": [
    "import dtale\n",
    "dtale.show(df)"
   ]
  },
  {
   "cell_type": "code",
   "execution_count": null,
   "id": "ad0c19d1",
   "metadata": {},
   "outputs": [],
   "source": []
  },
  {
   "cell_type": "markdown",
   "id": "f2dbded9",
   "metadata": {},
   "source": [
    "# SWEETVIZ"
   ]
  },
  {
   "cell_type": "code",
   "execution_count": 13,
   "id": "16583175",
   "metadata": {},
   "outputs": [
    {
     "name": "stdout",
     "output_type": "stream",
     "text": [
      "Collecting sweetviz\n",
      "  Downloading sweetviz-2.1.3-py3-none-any.whl (15.1 MB)\n",
      "Requirement already satisfied: matplotlib>=3.1.3 in c:\\users\\thiresh sidda\\anaconda3\\lib\\site-packages (from sweetviz) (3.4.3)\n",
      "Requirement already satisfied: tqdm>=4.43.0 in c:\\users\\thiresh sidda\\anaconda3\\lib\\site-packages (from sweetviz) (4.62.3)\n",
      "Collecting importlib-resources>=1.2.0\n",
      "  Downloading importlib_resources-5.7.1-py3-none-any.whl (28 kB)\n",
      "Requirement already satisfied: scipy>=1.3.2 in c:\\users\\thiresh sidda\\anaconda3\\lib\\site-packages (from sweetviz) (1.7.1)\n",
      "Requirement already satisfied: jinja2>=2.11.1 in c:\\users\\thiresh sidda\\anaconda3\\lib\\site-packages (from sweetviz) (2.11.3)\n",
      "Requirement already satisfied: numpy>=1.16.0 in c:\\users\\thiresh sidda\\anaconda3\\lib\\site-packages (from sweetviz) (1.20.3)\n",
      "Requirement already satisfied: pandas!=1.0.0,!=1.0.1,!=1.0.2,>=0.25.3 in c:\\users\\thiresh sidda\\anaconda3\\lib\\site-packages (from sweetviz) (1.3.4)\n",
      "Requirement already satisfied: zipp>=3.1.0 in c:\\users\\thiresh sidda\\anaconda3\\lib\\site-packages (from importlib-resources>=1.2.0->sweetviz) (3.6.0)\n",
      "Requirement already satisfied: MarkupSafe>=0.23 in c:\\users\\thiresh sidda\\anaconda3\\lib\\site-packages (from jinja2>=2.11.1->sweetviz) (2.0.1)\n",
      "Requirement already satisfied: cycler>=0.10 in c:\\users\\thiresh sidda\\anaconda3\\lib\\site-packages (from matplotlib>=3.1.3->sweetviz) (0.10.0)\n",
      "Requirement already satisfied: pillow>=6.2.0 in c:\\users\\thiresh sidda\\anaconda3\\lib\\site-packages (from matplotlib>=3.1.3->sweetviz) (8.4.0)\n",
      "Requirement already satisfied: pyparsing>=2.2.1 in c:\\users\\thiresh sidda\\anaconda3\\lib\\site-packages (from matplotlib>=3.1.3->sweetviz) (3.0.4)\n",
      "Requirement already satisfied: kiwisolver>=1.0.1 in c:\\users\\thiresh sidda\\anaconda3\\lib\\site-packages (from matplotlib>=3.1.3->sweetviz) (1.3.1)\n",
      "Requirement already satisfied: python-dateutil>=2.7 in c:\\users\\thiresh sidda\\anaconda3\\lib\\site-packages (from matplotlib>=3.1.3->sweetviz) (2.8.2)\n",
      "Requirement already satisfied: six in c:\\users\\thiresh sidda\\anaconda3\\lib\\site-packages (from cycler>=0.10->matplotlib>=3.1.3->sweetviz) (1.16.0)\n",
      "Requirement already satisfied: pytz>=2017.3 in c:\\users\\thiresh sidda\\anaconda3\\lib\\site-packages (from pandas!=1.0.0,!=1.0.1,!=1.0.2,>=0.25.3->sweetviz) (2021.3)\n",
      "Requirement already satisfied: colorama in c:\\users\\thiresh sidda\\anaconda3\\lib\\site-packages (from tqdm>=4.43.0->sweetviz) (0.4.4)\n",
      "Installing collected packages: importlib-resources, sweetviz\n",
      "Successfully installed importlib-resources-5.7.1 sweetviz-2.1.3\n"
     ]
    }
   ],
   "source": [
    "!pip install sweetviz"
   ]
  },
  {
   "cell_type": "code",
   "execution_count": 15,
   "id": "0d15f18c",
   "metadata": {},
   "outputs": [
    {
     "data": {
      "application/vnd.jupyter.widget-view+json": {
       "model_id": "334f7bba130847218309786ed1042e98",
       "version_major": 2,
       "version_minor": 0
      },
      "text/plain": [
       "                                             |                                             | [  0%]   00:00 ->…"
      ]
     },
     "metadata": {},
     "output_type": "display_data"
    },
    {
     "name": "stdout",
     "output_type": "stream",
     "text": [
      "Report newreport.html was generated! NOTEBOOK/COLAB USERS: the web browser MAY not pop up, regardless, the report IS saved in your notebook/colab files.\n"
     ]
    }
   ],
   "source": [
    "import sweetviz as sv\n",
    "report=sv.analyze(df)\n",
    "report.show_html('newreport.html')"
   ]
  },
  {
   "cell_type": "code",
   "execution_count": null,
   "id": "39868dfe",
   "metadata": {},
   "outputs": [],
   "source": []
  },
  {
   "cell_type": "markdown",
   "id": "b1e982a0",
   "metadata": {},
   "source": [
    "# DATAPREP"
   ]
  },
  {
   "cell_type": "code",
   "execution_count": 17,
   "id": "ff7e488c",
   "metadata": {},
   "outputs": [
    {
     "name": "stdout",
     "output_type": "stream",
     "text": [
      "Collecting dataprep\n",
      "  Downloading dataprep-0.4.3-py3-none-any.whl (9.5 MB)\n",
      "Collecting pystache<0.7.0,>=0.6.0\n",
      "  Downloading pystache-0.6.0.tar.gz (78 kB)\n",
      "  Installing build dependencies: started\n",
      "  Installing build dependencies: finished with status 'done'\n",
      "  Getting requirements to build wheel: started\n",
      "  Getting requirements to build wheel: finished with status 'done'\n",
      "    Preparing wheel metadata: started\n",
      "    Preparing wheel metadata: finished with status 'done'\n",
      "Requirement already satisfied: bokeh<3,>=2 in c:\\users\\thiresh sidda\\anaconda3\\lib\\site-packages (from dataprep) (2.4.1)\n",
      "Collecting wordcloud<2.0,>=1.8\n",
      "  Downloading wordcloud-1.8.1.tar.gz (220 kB)\n",
      "Collecting python-stdnum<2.0,>=1.16\n",
      "  Downloading python_stdnum-1.17-py2.py3-none-any.whl (943 kB)\n",
      "Collecting metaphone<0.7,>=0.6\n",
      "  Downloading Metaphone-0.6.tar.gz (14 kB)\n",
      "Requirement already satisfied: pandas<2.0,>=1.1 in c:\\users\\thiresh sidda\\anaconda3\\lib\\site-packages (from dataprep) (1.3.4)\n",
      "Collecting flask_cors<4.0.0,>=3.0.10\n",
      "  Downloading Flask_Cors-3.0.10-py2.py3-none-any.whl (14 kB)\n",
      "Collecting sqlalchemy<2.0.0,>=1.4.32\n",
      "  Downloading SQLAlchemy-1.4.36-cp39-cp39-win_amd64.whl (1.6 MB)\n",
      "Collecting numpy<2.0,>=1.21\n",
      "  Downloading numpy-1.22.3-cp39-cp39-win_amd64.whl (14.7 MB)\n",
      "Collecting aiohttp<4.0,>=3.6\n",
      "  Downloading aiohttp-3.8.1-cp39-cp39-win_amd64.whl (554 kB)\n",
      "Collecting dask[array,dataframe,delayed]<2022.0,>=2021.11\n",
      "  Downloading dask-2021.12.0-py3-none-any.whl (1.0 MB)\n",
      "Collecting varname<0.9.0,>=0.8.1\n",
      "  Downloading varname-0.8.3-py3-none-any.whl (21 kB)\n",
      "Collecting jinja2<4,>=3\n",
      "  Downloading Jinja2-3.1.2-py3-none-any.whl (133 kB)\n",
      "Collecting jsonpath-ng<2.0,>=1.5\n",
      "  Downloading jsonpath_ng-1.5.3-py3-none-any.whl (29 kB)\n",
      "Requirement already satisfied: pydantic<2.0,>=1.6 in c:\\users\\thiresh sidda\\anaconda3\\lib\\site-packages (from dataprep) (1.9.0)\n",
      "Requirement already satisfied: scipy<=1.7.1 in c:\\users\\thiresh sidda\\anaconda3\\lib\\site-packages (from dataprep) (1.7.1)\n",
      "Requirement already satisfied: ipywidgets<8.0,>=7.5 in c:\\users\\thiresh sidda\\anaconda3\\lib\\site-packages (from dataprep) (7.6.5)\n",
      "Collecting nltk<4.0.0,>=3.6.7\n",
      "  Downloading nltk-3.7-py3-none-any.whl (1.5 MB)\n",
      "Requirement already satisfied: tqdm<5.0,>=4.48 in c:\\users\\thiresh sidda\\anaconda3\\lib\\site-packages (from dataprep) (4.62.3)\n",
      "Collecting python-crfsuite<0.10.0,>=0.9.7\n",
      "  Downloading python_crfsuite-0.9.8-cp39-cp39-win_amd64.whl (158 kB)\n",
      "Collecting flask<3,>=2\n",
      "  Downloading Flask-2.1.2-py3-none-any.whl (95 kB)\n",
      "Requirement already satisfied: regex<2022.0.0,>=2021.8.3 in c:\\users\\thiresh sidda\\anaconda3\\lib\\site-packages (from dataprep) (2021.8.3)\n",
      "Collecting python-Levenshtein<0.13.0,>=0.12.2\n",
      "  Downloading python-Levenshtein-0.12.2.tar.gz (50 kB)\n",
      "Collecting yarl<2.0,>=1.0\n",
      "  Downloading yarl-1.7.2-cp39-cp39-win_amd64.whl (122 kB)\n",
      "Collecting multidict<7.0,>=4.5\n",
      "  Downloading multidict-6.0.2-cp39-cp39-win_amd64.whl (28 kB)\n",
      "Collecting async-timeout<5.0,>=4.0.0a3\n",
      "  Downloading async_timeout-4.0.2-py3-none-any.whl (5.8 kB)\n",
      "Collecting aiosignal>=1.1.2\n",
      "  Downloading aiosignal-1.2.0-py3-none-any.whl (8.2 kB)\n",
      "Requirement already satisfied: charset-normalizer<3.0,>=2.0 in c:\\users\\thiresh sidda\\anaconda3\\lib\\site-packages (from aiohttp<4.0,>=3.6->dataprep) (2.0.4)\n",
      "Collecting frozenlist>=1.1.1\n",
      "  Downloading frozenlist-1.3.0-cp39-cp39-win_amd64.whl (33 kB)\n",
      "Requirement already satisfied: attrs>=17.3.0 in c:\\users\\thiresh sidda\\anaconda3\\lib\\site-packages (from aiohttp<4.0,>=3.6->dataprep) (21.2.0)\n",
      "Requirement already satisfied: typing-extensions>=3.10.0 in c:\\users\\thiresh sidda\\anaconda3\\lib\\site-packages (from bokeh<3,>=2->dataprep) (3.10.0.2)\n",
      "Requirement already satisfied: pillow>=7.1.0 in c:\\users\\thiresh sidda\\anaconda3\\lib\\site-packages (from bokeh<3,>=2->dataprep) (8.4.0)\n",
      "Requirement already satisfied: tornado>=5.1 in c:\\users\\thiresh sidda\\anaconda3\\lib\\site-packages (from bokeh<3,>=2->dataprep) (6.1)\n",
      "Requirement already satisfied: PyYAML>=3.10 in c:\\users\\thiresh sidda\\anaconda3\\lib\\site-packages (from bokeh<3,>=2->dataprep) (6.0)\n",
      "Requirement already satisfied: packaging>=16.8 in c:\\users\\thiresh sidda\\anaconda3\\lib\\site-packages (from bokeh<3,>=2->dataprep) (21.0)\n",
      "Requirement already satisfied: toolz>=0.8.2 in c:\\users\\thiresh sidda\\anaconda3\\lib\\site-packages (from dask[array,dataframe,delayed]<2022.0,>=2021.11->dataprep) (0.11.1)\n",
      "Requirement already satisfied: cloudpickle>=1.1.1 in c:\\users\\thiresh sidda\\anaconda3\\lib\\site-packages (from dask[array,dataframe,delayed]<2022.0,>=2021.11->dataprep) (2.0.0)\n",
      "Requirement already satisfied: partd>=0.3.10 in c:\\users\\thiresh sidda\\anaconda3\\lib\\site-packages (from dask[array,dataframe,delayed]<2022.0,>=2021.11->dataprep) (1.2.0)\n",
      "Requirement already satisfied: fsspec>=0.6.0 in c:\\users\\thiresh sidda\\anaconda3\\lib\\site-packages (from dask[array,dataframe,delayed]<2022.0,>=2021.11->dataprep) (2021.10.1)\n",
      "Requirement already satisfied: importlib-metadata>=3.6.0 in c:\\users\\thiresh sidda\\anaconda3\\lib\\site-packages (from flask<3,>=2->dataprep) (4.8.1)\n",
      "Requirement already satisfied: itsdangerous>=2.0 in c:\\users\\thiresh sidda\\anaconda3\\lib\\site-packages (from flask<3,>=2->dataprep) (2.0.1)\n",
      "Requirement already satisfied: Werkzeug>=2.0 in c:\\users\\thiresh sidda\\anaconda3\\lib\\site-packages (from flask<3,>=2->dataprep) (2.0.2)\n",
      "Requirement already satisfied: click>=8.0 in c:\\users\\thiresh sidda\\anaconda3\\lib\\site-packages (from flask<3,>=2->dataprep) (8.0.3)\n",
      "Requirement already satisfied: colorama in c:\\users\\thiresh sidda\\anaconda3\\lib\\site-packages (from click>=8.0->flask<3,>=2->dataprep) (0.4.4)\n",
      "Requirement already satisfied: Six in c:\\users\\thiresh sidda\\anaconda3\\lib\\site-packages (from flask_cors<4.0.0,>=3.0.10->dataprep) (1.16.0)\n",
      "Requirement already satisfied: zipp>=0.5 in c:\\users\\thiresh sidda\\anaconda3\\lib\\site-packages (from importlib-metadata>=3.6.0->flask<3,>=2->dataprep) (3.6.0)\n",
      "Requirement already satisfied: traitlets>=4.3.1 in c:\\users\\thiresh sidda\\anaconda3\\lib\\site-packages (from ipywidgets<8.0,>=7.5->dataprep) (5.1.0)\n",
      "Requirement already satisfied: widgetsnbextension~=3.5.0 in c:\\users\\thiresh sidda\\anaconda3\\lib\\site-packages (from ipywidgets<8.0,>=7.5->dataprep) (3.5.1)\n",
      "Requirement already satisfied: ipython>=4.0.0 in c:\\users\\thiresh sidda\\anaconda3\\lib\\site-packages (from ipywidgets<8.0,>=7.5->dataprep) (7.29.0)\n",
      "Requirement already satisfied: ipykernel>=4.5.1 in c:\\users\\thiresh sidda\\anaconda3\\lib\\site-packages (from ipywidgets<8.0,>=7.5->dataprep) (6.4.1)\n",
      "Requirement already satisfied: nbformat>=4.2.0 in c:\\users\\thiresh sidda\\anaconda3\\lib\\site-packages (from ipywidgets<8.0,>=7.5->dataprep) (5.1.3)\n",
      "Requirement already satisfied: ipython-genutils~=0.2.0 in c:\\users\\thiresh sidda\\anaconda3\\lib\\site-packages (from ipywidgets<8.0,>=7.5->dataprep) (0.2.0)\n",
      "Requirement already satisfied: jupyterlab-widgets>=1.0.0 in c:\\users\\thiresh sidda\\anaconda3\\lib\\site-packages (from ipywidgets<8.0,>=7.5->dataprep) (1.0.0)\n",
      "Requirement already satisfied: debugpy<2.0,>=1.0.0 in c:\\users\\thiresh sidda\\anaconda3\\lib\\site-packages (from ipykernel>=4.5.1->ipywidgets<8.0,>=7.5->dataprep) (1.4.1)\n",
      "Requirement already satisfied: matplotlib-inline<0.2.0,>=0.1.0 in c:\\users\\thiresh sidda\\anaconda3\\lib\\site-packages (from ipykernel>=4.5.1->ipywidgets<8.0,>=7.5->dataprep) (0.1.2)\n",
      "Requirement already satisfied: jupyter-client<8.0 in c:\\users\\thiresh sidda\\anaconda3\\lib\\site-packages (from ipykernel>=4.5.1->ipywidgets<8.0,>=7.5->dataprep) (6.1.12)\n",
      "Requirement already satisfied: jedi>=0.16 in c:\\users\\thiresh sidda\\anaconda3\\lib\\site-packages (from ipython>=4.0.0->ipywidgets<8.0,>=7.5->dataprep) (0.18.0)\n",
      "Requirement already satisfied: pygments in c:\\users\\thiresh sidda\\anaconda3\\lib\\site-packages (from ipython>=4.0.0->ipywidgets<8.0,>=7.5->dataprep) (2.10.0)\n",
      "Requirement already satisfied: pickleshare in c:\\users\\thiresh sidda\\anaconda3\\lib\\site-packages (from ipython>=4.0.0->ipywidgets<8.0,>=7.5->dataprep) (0.7.5)\n",
      "Requirement already satisfied: backcall in c:\\users\\thiresh sidda\\anaconda3\\lib\\site-packages (from ipython>=4.0.0->ipywidgets<8.0,>=7.5->dataprep) (0.2.0)\n",
      "Requirement already satisfied: prompt-toolkit!=3.0.0,!=3.0.1,<3.1.0,>=2.0.0 in c:\\users\\thiresh sidda\\anaconda3\\lib\\site-packages (from ipython>=4.0.0->ipywidgets<8.0,>=7.5->dataprep) (3.0.20)\n",
      "Requirement already satisfied: setuptools>=18.5 in c:\\users\\thiresh sidda\\anaconda3\\lib\\site-packages (from ipython>=4.0.0->ipywidgets<8.0,>=7.5->dataprep) (58.0.4)\n",
      "Requirement already satisfied: decorator in c:\\users\\thiresh sidda\\anaconda3\\lib\\site-packages (from ipython>=4.0.0->ipywidgets<8.0,>=7.5->dataprep) (5.1.0)\n",
      "Requirement already satisfied: parso<0.9.0,>=0.8.0 in c:\\users\\thiresh sidda\\anaconda3\\lib\\site-packages (from jedi>=0.16->ipython>=4.0.0->ipywidgets<8.0,>=7.5->dataprep) (0.8.2)\n",
      "Requirement already satisfied: MarkupSafe>=2.0 in c:\\users\\thiresh sidda\\anaconda3\\lib\\site-packages (from jinja2<4,>=3->dataprep) (2.0.1)\n",
      "Requirement already satisfied: ply in c:\\users\\thiresh sidda\\anaconda3\\lib\\site-packages (from jsonpath-ng<2.0,>=1.5->dataprep) (3.11)\n",
      "Requirement already satisfied: jupyter-core>=4.6.0 in c:\\users\\thiresh sidda\\anaconda3\\lib\\site-packages (from jupyter-client<8.0->ipykernel>=4.5.1->ipywidgets<8.0,>=7.5->dataprep) (4.8.1)\n",
      "Requirement already satisfied: pyzmq>=13 in c:\\users\\thiresh sidda\\anaconda3\\lib\\site-packages (from jupyter-client<8.0->ipykernel>=4.5.1->ipywidgets<8.0,>=7.5->dataprep) (22.2.1)\n",
      "Requirement already satisfied: python-dateutil>=2.1 in c:\\users\\thiresh sidda\\anaconda3\\lib\\site-packages (from jupyter-client<8.0->ipykernel>=4.5.1->ipywidgets<8.0,>=7.5->dataprep) (2.8.2)\n",
      "Requirement already satisfied: pywin32>=1.0 in c:\\users\\thiresh sidda\\anaconda3\\lib\\site-packages (from jupyter-core>=4.6.0->jupyter-client<8.0->ipykernel>=4.5.1->ipywidgets<8.0,>=7.5->dataprep) (228)\n",
      "Requirement already satisfied: jsonschema!=2.5.0,>=2.4 in c:\\users\\thiresh sidda\\anaconda3\\lib\\site-packages (from nbformat>=4.2.0->ipywidgets<8.0,>=7.5->dataprep) (3.2.0)\n",
      "Requirement already satisfied: pyrsistent>=0.14.0 in c:\\users\\thiresh sidda\\anaconda3\\lib\\site-packages (from jsonschema!=2.5.0,>=2.4->nbformat>=4.2.0->ipywidgets<8.0,>=7.5->dataprep) (0.18.0)\n",
      "Requirement already satisfied: joblib in c:\\users\\thiresh sidda\\anaconda3\\lib\\site-packages (from nltk<4.0.0,>=3.6.7->dataprep) (1.0.1)\n",
      "Requirement already satisfied: pyparsing>=2.0.2 in c:\\users\\thiresh sidda\\anaconda3\\lib\\site-packages (from packaging>=16.8->bokeh<3,>=2->dataprep) (3.0.4)\n",
      "Requirement already satisfied: pytz>=2017.3 in c:\\users\\thiresh sidda\\anaconda3\\lib\\site-packages (from pandas<2.0,>=1.1->dataprep) (2021.3)\n",
      "Requirement already satisfied: locket in c:\\users\\thiresh sidda\\anaconda3\\lib\\site-packages\\locket-0.2.1-py3.9.egg (from partd>=0.3.10->dask[array,dataframe,delayed]<2022.0,>=2021.11->dataprep) (0.2.1)\n",
      "Requirement already satisfied: wcwidth in c:\\users\\thiresh sidda\\anaconda3\\lib\\site-packages (from prompt-toolkit!=3.0.0,!=3.0.1,<3.1.0,>=2.0.0->ipython>=4.0.0->ipywidgets<8.0,>=7.5->dataprep) (0.2.5)\n",
      "Requirement already satisfied: greenlet!=0.4.17 in c:\\users\\thiresh sidda\\anaconda3\\lib\\site-packages (from sqlalchemy<2.0.0,>=1.4.32->dataprep) (1.1.1)\n",
      "Collecting pure_eval<1.0.0\n",
      "  Downloading pure_eval-0.2.2-py3-none-any.whl (11 kB)\n",
      "Collecting asttokens<3.0.0,>=2.0.0\n",
      "  Downloading asttokens-2.0.5-py2.py3-none-any.whl (20 kB)\n",
      "Collecting executing<0.9.0,>=0.8.3\n",
      "  Downloading executing-0.8.3-py2.py3-none-any.whl (16 kB)\n",
      "Requirement already satisfied: notebook>=4.4.1 in c:\\users\\thiresh sidda\\anaconda3\\lib\\site-packages (from widgetsnbextension~=3.5.0->ipywidgets<8.0,>=7.5->dataprep) (6.4.5)\n",
      "Requirement already satisfied: Send2Trash>=1.5.0 in c:\\users\\thiresh sidda\\anaconda3\\lib\\site-packages (from notebook>=4.4.1->widgetsnbextension~=3.5.0->ipywidgets<8.0,>=7.5->dataprep) (1.8.0)\n",
      "Requirement already satisfied: nbconvert in c:\\users\\thiresh sidda\\anaconda3\\lib\\site-packages (from notebook>=4.4.1->widgetsnbextension~=3.5.0->ipywidgets<8.0,>=7.5->dataprep) (6.1.0)\n",
      "Requirement already satisfied: argon2-cffi in c:\\users\\thiresh sidda\\anaconda3\\lib\\site-packages (from notebook>=4.4.1->widgetsnbextension~=3.5.0->ipywidgets<8.0,>=7.5->dataprep) (20.1.0)\n",
      "Requirement already satisfied: terminado>=0.8.3 in c:\\users\\thiresh sidda\\anaconda3\\lib\\site-packages (from notebook>=4.4.1->widgetsnbextension~=3.5.0->ipywidgets<8.0,>=7.5->dataprep) (0.9.4)\n",
      "Requirement already satisfied: prometheus-client in c:\\users\\thiresh sidda\\anaconda3\\lib\\site-packages (from notebook>=4.4.1->widgetsnbextension~=3.5.0->ipywidgets<8.0,>=7.5->dataprep) (0.11.0)\n",
      "Requirement already satisfied: pywinpty>=0.5 in c:\\users\\thiresh sidda\\anaconda3\\lib\\site-packages (from terminado>=0.8.3->notebook>=4.4.1->widgetsnbextension~=3.5.0->ipywidgets<8.0,>=7.5->dataprep) (0.5.7)\n",
      "Requirement already satisfied: matplotlib in c:\\users\\thiresh sidda\\anaconda3\\lib\\site-packages (from wordcloud<2.0,>=1.8->dataprep) (3.4.3)\n",
      "Requirement already satisfied: idna>=2.0 in c:\\users\\thiresh sidda\\anaconda3\\lib\\site-packages (from yarl<2.0,>=1.0->aiohttp<4.0,>=3.6->dataprep) (3.2)\n",
      "Requirement already satisfied: cffi>=1.0.0 in c:\\users\\thiresh sidda\\anaconda3\\lib\\site-packages (from argon2-cffi->notebook>=4.4.1->widgetsnbextension~=3.5.0->ipywidgets<8.0,>=7.5->dataprep) (1.14.6)\n",
      "Requirement already satisfied: pycparser in c:\\users\\thiresh sidda\\anaconda3\\lib\\site-packages (from cffi>=1.0.0->argon2-cffi->notebook>=4.4.1->widgetsnbextension~=3.5.0->ipywidgets<8.0,>=7.5->dataprep) (2.20)\n",
      "Requirement already satisfied: cycler>=0.10 in c:\\users\\thiresh sidda\\anaconda3\\lib\\site-packages (from matplotlib->wordcloud<2.0,>=1.8->dataprep) (0.10.0)\n",
      "Requirement already satisfied: kiwisolver>=1.0.1 in c:\\users\\thiresh sidda\\anaconda3\\lib\\site-packages (from matplotlib->wordcloud<2.0,>=1.8->dataprep) (1.3.1)\n",
      "Requirement already satisfied: pandocfilters>=1.4.1 in c:\\users\\thiresh sidda\\anaconda3\\lib\\site-packages (from nbconvert->notebook>=4.4.1->widgetsnbextension~=3.5.0->ipywidgets<8.0,>=7.5->dataprep) (1.4.3)\n",
      "Requirement already satisfied: defusedxml in c:\\users\\thiresh sidda\\anaconda3\\lib\\site-packages (from nbconvert->notebook>=4.4.1->widgetsnbextension~=3.5.0->ipywidgets<8.0,>=7.5->dataprep) (0.7.1)\n",
      "Requirement already satisfied: bleach in c:\\users\\thiresh sidda\\anaconda3\\lib\\site-packages (from nbconvert->notebook>=4.4.1->widgetsnbextension~=3.5.0->ipywidgets<8.0,>=7.5->dataprep) (4.0.0)\n",
      "Requirement already satisfied: nbclient<0.6.0,>=0.5.0 in c:\\users\\thiresh sidda\\anaconda3\\lib\\site-packages (from nbconvert->notebook>=4.4.1->widgetsnbextension~=3.5.0->ipywidgets<8.0,>=7.5->dataprep) (0.5.3)\n",
      "Requirement already satisfied: jupyterlab-pygments in c:\\users\\thiresh sidda\\anaconda3\\lib\\site-packages (from nbconvert->notebook>=4.4.1->widgetsnbextension~=3.5.0->ipywidgets<8.0,>=7.5->dataprep) (0.1.2)\n",
      "Requirement already satisfied: entrypoints>=0.2.2 in c:\\users\\thiresh sidda\\anaconda3\\lib\\site-packages (from nbconvert->notebook>=4.4.1->widgetsnbextension~=3.5.0->ipywidgets<8.0,>=7.5->dataprep) (0.3)\n",
      "Requirement already satisfied: testpath in c:\\users\\thiresh sidda\\anaconda3\\lib\\site-packages (from nbconvert->notebook>=4.4.1->widgetsnbextension~=3.5.0->ipywidgets<8.0,>=7.5->dataprep) (0.5.0)\n",
      "Requirement already satisfied: mistune<2,>=0.8.1 in c:\\users\\thiresh sidda\\anaconda3\\lib\\site-packages (from nbconvert->notebook>=4.4.1->widgetsnbextension~=3.5.0->ipywidgets<8.0,>=7.5->dataprep) (0.8.4)\n",
      "Requirement already satisfied: nest-asyncio in c:\\users\\thiresh sidda\\anaconda3\\lib\\site-packages (from nbclient<0.6.0,>=0.5.0->nbconvert->notebook>=4.4.1->widgetsnbextension~=3.5.0->ipywidgets<8.0,>=7.5->dataprep) (1.5.1)\n",
      "Requirement already satisfied: async-generator in c:\\users\\thiresh sidda\\anaconda3\\lib\\site-packages (from nbclient<0.6.0,>=0.5.0->nbconvert->notebook>=4.4.1->widgetsnbextension~=3.5.0->ipywidgets<8.0,>=7.5->dataprep) (1.10)\n",
      "Requirement already satisfied: webencodings in c:\\users\\thiresh sidda\\anaconda3\\lib\\site-packages (from bleach->nbconvert->notebook>=4.4.1->widgetsnbextension~=3.5.0->ipywidgets<8.0,>=7.5->dataprep) (0.5.1)\n",
      "Building wheels for collected packages: metaphone, pystache, python-Levenshtein, wordcloud\n",
      "  Building wheel for metaphone (setup.py): started\n",
      "  Building wheel for metaphone (setup.py): finished with status 'done'\n",
      "  Created wheel for metaphone: filename=Metaphone-0.6-py3-none-any.whl size=13919 sha256=39c72e55eb4a6a5850c46bc9461230fc003c90f3690f73b2686f74e9d13957fe\n",
      "  Stored in directory: c:\\users\\thiresh sidda\\appdata\\local\\pip\\cache\\wheels\\b2\\9e\\d9\\26be7687b8fe36cd6cacbec34e825a3dbcd3bae54017cfb385\n",
      "  Building wheel for pystache (PEP 517): started\n",
      "  Building wheel for pystache (PEP 517): finished with status 'done'\n",
      "  Created wheel for pystache: filename=pystache-0.6.0-py3-none-any.whl size=83634 sha256=c1dfa433057f01bdbe9618b8e0bdecabc7bfbe462e5b99831664939f79f160d1\n",
      "  Stored in directory: c:\\users\\thiresh sidda\\appdata\\local\\pip\\cache\\wheels\\56\\e7\\49\\8561f499b433df173f5ffe04a490876fadc8f51ab62e3a5003\n",
      "  Building wheel for python-Levenshtein (setup.py): started\n",
      "  Building wheel for python-Levenshtein (setup.py): finished with status 'error'\n",
      "  Running setup.py clean for python-Levenshtein\n",
      "  Building wheel for wordcloud (setup.py): started\n",
      "  Building wheel for wordcloud (setup.py): finished with status 'error'\n",
      "  Running setup.py clean for wordcloud\n",
      "Successfully built metaphone pystache\n",
      "Failed to build python-Levenshtein wordcloud\n",
      "Installing collected packages: jinja2, numpy, multidict, frozenlist, yarl, pure-eval, flask, executing, dask, async-timeout, asttokens, aiosignal, wordcloud, varname, sqlalchemy, python-stdnum, python-Levenshtein, python-crfsuite, pystache, nltk, metaphone, jsonpath-ng, flask-cors, aiohttp, dataprep\n",
      "  Attempting uninstall: jinja2\n",
      "    Found existing installation: Jinja2 2.11.3\n",
      "    Uninstalling Jinja2-2.11.3:\n",
      "      Successfully uninstalled Jinja2-2.11.3\n",
      "  Attempting uninstall: numpy\n",
      "    Found existing installation: numpy 1.20.3\n",
      "    Uninstalling numpy-1.20.3:\n",
      "      Successfully uninstalled numpy-1.20.3\n",
      "  Attempting uninstall: flask\n",
      "    Found existing installation: Flask 1.1.2\n",
      "    Uninstalling Flask-1.1.2:\n"
     ]
    },
    {
     "name": "stderr",
     "output_type": "stream",
     "text": [
      "  ERROR: Command errored out with exit status 1:\n",
      "   command: 'C:\\Users\\Thiresh sidda\\anaconda3\\python.exe' -u -c 'import io, os, sys, setuptools, tokenize; sys.argv[0] = '\"'\"'C:\\\\Users\\\\Thiresh sidda\\\\AppData\\\\Local\\\\Temp\\\\pip-install-2gd_n0wd\\\\python-levenshtein_7a716e4d329640fbbc8a7267e1e9ea32\\\\setup.py'\"'\"'; __file__='\"'\"'C:\\\\Users\\\\Thiresh sidda\\\\AppData\\\\Local\\\\Temp\\\\pip-install-2gd_n0wd\\\\python-levenshtein_7a716e4d329640fbbc8a7267e1e9ea32\\\\setup.py'\"'\"';f = getattr(tokenize, '\"'\"'open'\"'\"', open)(__file__) if os.path.exists(__file__) else io.StringIO('\"'\"'from setuptools import setup; setup()'\"'\"');code = f.read().replace('\"'\"'\\r\\n'\"'\"', '\"'\"'\\n'\"'\"');f.close();exec(compile(code, __file__, '\"'\"'exec'\"'\"'))' bdist_wheel -d 'C:\\Users\\Thiresh sidda\\AppData\\Local\\Temp\\pip-wheel-kdq1i5ta'\n",
      "       cwd: C:\\Users\\Thiresh sidda\\AppData\\Local\\Temp\\pip-install-2gd_n0wd\\python-levenshtein_7a716e4d329640fbbc8a7267e1e9ea32\\\n",
      "  Complete output (28 lines):\n",
      "  running bdist_wheel\n",
      "  running build\n",
      "  running build_py\n",
      "  creating build\n",
      "  creating build\\lib.win-amd64-3.9\n",
      "  creating build\\lib.win-amd64-3.9\\Levenshtein\n",
      "  copying Levenshtein\\StringMatcher.py -> build\\lib.win-amd64-3.9\\Levenshtein\n",
      "  copying Levenshtein\\__init__.py -> build\\lib.win-amd64-3.9\\Levenshtein\n",
      "  running egg_info\n",
      "  writing python_Levenshtein.egg-info\\PKG-INFO\n",
      "  writing dependency_links to python_Levenshtein.egg-info\\dependency_links.txt\n",
      "  writing entry points to python_Levenshtein.egg-info\\entry_points.txt\n",
      "  writing namespace_packages to python_Levenshtein.egg-info\\namespace_packages.txt\n",
      "  writing requirements to python_Levenshtein.egg-info\\requires.txt\n",
      "  writing top-level names to python_Levenshtein.egg-info\\top_level.txt\n",
      "  reading manifest file 'python_Levenshtein.egg-info\\SOURCES.txt'\n",
      "  reading manifest template 'MANIFEST.in'\n",
      "  warning: no previously-included files matching '*pyc' found anywhere in distribution\n",
      "  warning: no previously-included files matching '*so' found anywhere in distribution\n",
      "  warning: no previously-included files matching '.project' found anywhere in distribution\n",
      "  warning: no previously-included files matching '.pydevproject' found anywhere in distribution\n",
      "  adding license file 'COPYING'\n",
      "  writing manifest file 'python_Levenshtein.egg-info\\SOURCES.txt'\n",
      "  copying Levenshtein\\_levenshtein.c -> build\\lib.win-amd64-3.9\\Levenshtein\n",
      "  copying Levenshtein\\_levenshtein.h -> build\\lib.win-amd64-3.9\\Levenshtein\n",
      "  running build_ext\n",
      "  building 'Levenshtein._levenshtein' extension\n",
      "  error: Microsoft Visual C++ 14.0 or greater is required. Get it with \"Microsoft C++ Build Tools\": https://visualstudio.microsoft.com/visual-cpp-build-tools/\n",
      "  ----------------------------------------\n",
      "  ERROR: Failed building wheel for python-Levenshtein\n",
      "  ERROR: Command errored out with exit status 1:\n",
      "   command: 'C:\\Users\\Thiresh sidda\\anaconda3\\python.exe' -u -c 'import io, os, sys, setuptools, tokenize; sys.argv[0] = '\"'\"'C:\\\\Users\\\\Thiresh sidda\\\\AppData\\\\Local\\\\Temp\\\\pip-install-2gd_n0wd\\\\wordcloud_5661125eeab241aa916d362f8341870c\\\\setup.py'\"'\"'; __file__='\"'\"'C:\\\\Users\\\\Thiresh sidda\\\\AppData\\\\Local\\\\Temp\\\\pip-install-2gd_n0wd\\\\wordcloud_5661125eeab241aa916d362f8341870c\\\\setup.py'\"'\"';f = getattr(tokenize, '\"'\"'open'\"'\"', open)(__file__) if os.path.exists(__file__) else io.StringIO('\"'\"'from setuptools import setup; setup()'\"'\"');code = f.read().replace('\"'\"'\\r\\n'\"'\"', '\"'\"'\\n'\"'\"');f.close();exec(compile(code, __file__, '\"'\"'exec'\"'\"'))' bdist_wheel -d 'C:\\Users\\Thiresh sidda\\AppData\\Local\\Temp\\pip-wheel-ywih6cap'\n",
      "       cwd: C:\\Users\\Thiresh sidda\\AppData\\Local\\Temp\\pip-install-2gd_n0wd\\wordcloud_5661125eeab241aa916d362f8341870c\\\n",
      "  Complete output (20 lines):\n",
      "  running bdist_wheel\n",
      "  running build\n",
      "  running build_py\n",
      "  creating build\n",
      "  creating build\\lib.win-amd64-3.9\n",
      "  creating build\\lib.win-amd64-3.9\\wordcloud\n",
      "  copying wordcloud\\color_from_image.py -> build\\lib.win-amd64-3.9\\wordcloud\n",
      "  copying wordcloud\\tokenization.py -> build\\lib.win-amd64-3.9\\wordcloud\n",
      "  copying wordcloud\\wordcloud.py -> build\\lib.win-amd64-3.9\\wordcloud\n",
      "  copying wordcloud\\wordcloud_cli.py -> build\\lib.win-amd64-3.9\\wordcloud\n",
      "  copying wordcloud\\_version.py -> build\\lib.win-amd64-3.9\\wordcloud\n",
      "  copying wordcloud\\__init__.py -> build\\lib.win-amd64-3.9\\wordcloud\n",
      "  copying wordcloud\\__main__.py -> build\\lib.win-amd64-3.9\\wordcloud\n",
      "  copying wordcloud\\stopwords -> build\\lib.win-amd64-3.9\\wordcloud\n",
      "  copying wordcloud\\DroidSansMono.ttf -> build\\lib.win-amd64-3.9\\wordcloud\n",
      "  UPDATING build\\lib.win-amd64-3.9\\wordcloud/_version.py\n",
      "  set build\\lib.win-amd64-3.9\\wordcloud/_version.py to '1.8.1'\n",
      "  running build_ext\n",
      "  building 'wordcloud.query_integral_image' extension\n",
      "  error: Microsoft Visual C++ 14.0 or greater is required. Get it with \"Microsoft C++ Build Tools\": https://visualstudio.microsoft.com/visual-cpp-build-tools/\n",
      "  ----------------------------------------\n",
      "  ERROR: Failed building wheel for wordcloud\n",
      "ERROR: Could not install packages due to an OSError: [Errno 13] Permission denied: 'c:\\\\users\\\\thiresh sidda\\\\anaconda3\\\\scripts\\\\flask.exe'\n",
      "Consider using the `--user` option or check the permissions.\n",
      "\n"
     ]
    }
   ],
   "source": [
    "!pip install dataprep"
   ]
  },
  {
   "cell_type": "code",
   "execution_count": 18,
   "id": "7b4ac889",
   "metadata": {},
   "outputs": [
    {
     "ename": "ModuleNotFoundError",
     "evalue": "No module named 'dataprep'",
     "output_type": "error",
     "traceback": [
      "\u001b[1;31m---------------------------------------------------------------------------\u001b[0m",
      "\u001b[1;31mModuleNotFoundError\u001b[0m                       Traceback (most recent call last)",
      "\u001b[1;32mC:\\Users\\THIRES~1\\AppData\\Local\\Temp/ipykernel_1540/2171951812.py\u001b[0m in \u001b[0;36m<module>\u001b[1;34m\u001b[0m\n\u001b[1;32m----> 1\u001b[1;33m \u001b[1;32mfrom\u001b[0m \u001b[0mdataprep\u001b[0m\u001b[1;33m.\u001b[0m\u001b[0meda\u001b[0m \u001b[1;32mimport\u001b[0m \u001b[0mcreate_report\u001b[0m\u001b[1;33m\u001b[0m\u001b[1;33m\u001b[0m\u001b[0m\n\u001b[0m\u001b[0;32m      2\u001b[0m \u001b[0mcreat_report\u001b[0m\u001b[1;33m(\u001b[0m\u001b[0mdf\u001b[0m\u001b[1;33m)\u001b[0m\u001b[1;33m\u001b[0m\u001b[1;33m\u001b[0m\u001b[0m\n",
      "\u001b[1;31mModuleNotFoundError\u001b[0m: No module named 'dataprep'"
     ]
    }
   ],
   "source": [
    "from dataprep.eda import create_report\n",
    "creat_report(df)"
   ]
  },
  {
   "cell_type": "markdown",
   "id": "03236f75",
   "metadata": {},
   "source": [
    "# LUX"
   ]
  },
  {
   "cell_type": "code",
   "execution_count": 19,
   "id": "a3c05e88",
   "metadata": {},
   "outputs": [
    {
     "name": "stdout",
     "output_type": "stream",
     "text": [
      "Collecting lux\n",
      "  Downloading lux-0.5.1.tar.gz (14 kB)\n",
      "Collecting lux-api\n",
      "  Downloading lux-api-0.5.1.tar.gz (127 kB)\n",
      "  Installing build dependencies: started\n",
      "  Installing build dependencies: finished with status 'done'\n",
      "  Getting requirements to build wheel: started\n",
      "  Getting requirements to build wheel: finished with status 'done'\n",
      "    Preparing wheel metadata: started\n",
      "    Preparing wheel metadata: finished with status 'done'\n",
      "Collecting lux-widget\n",
      "  Downloading lux-widget-0.1.11.tar.gz (2.5 MB)\n",
      "Requirement already satisfied: scipy>=1.3.3 in c:\\users\\thiresh sidda\\anaconda3\\lib\\site-packages (from lux-api->lux) (1.7.1)\n",
      "Collecting altair>=4.0.0\n",
      "  Downloading altair-4.2.0-py3-none-any.whl (812 kB)\n",
      "Requirement already satisfied: numpy>=1.16.5 in c:\\users\\thiresh sidda\\anaconda3\\lib\\site-packages (from lux-api->lux) (1.22.3)\n",
      "Requirement already satisfied: matplotlib>=3.0.0 in c:\\users\\thiresh sidda\\anaconda3\\lib\\site-packages (from lux-api->lux) (3.4.3)\n",
      "Requirement already satisfied: pandas in c:\\users\\thiresh sidda\\anaconda3\\lib\\site-packages (from lux-api->lux) (1.3.4)\n",
      "Collecting psutil>=5.9.0\n",
      "  Downloading psutil-5.9.0-cp39-cp39-win_amd64.whl (245 kB)\n",
      "Requirement already satisfied: autopep8>=1.5 in c:\\users\\thiresh sidda\\anaconda3\\lib\\site-packages (from lux-api->lux) (1.5.7)\n",
      "Collecting iso3166\n",
      "  Downloading iso3166-2.0.2-py3-none-any.whl (8.5 kB)\n",
      "Requirement already satisfied: scikit-learn>=0.22 in c:\\users\\thiresh sidda\\anaconda3\\lib\\site-packages (from lux-api->lux) (0.24.2)\n",
      "Collecting sh\n",
      "  Downloading sh-1.14.2-py2.py3-none-any.whl (40 kB)\n",
      "Requirement already satisfied: jinja2 in c:\\users\\thiresh sidda\\anaconda3\\lib\\site-packages (from altair>=4.0.0->lux-api->lux) (3.1.2)\n",
      "Requirement already satisfied: entrypoints in c:\\users\\thiresh sidda\\anaconda3\\lib\\site-packages (from altair>=4.0.0->lux-api->lux) (0.3)\n",
      "Requirement already satisfied: toolz in c:\\users\\thiresh sidda\\anaconda3\\lib\\site-packages (from altair>=4.0.0->lux-api->lux) (0.11.1)\n",
      "Requirement already satisfied: jsonschema>=3.0 in c:\\users\\thiresh sidda\\anaconda3\\lib\\site-packages (from altair>=4.0.0->lux-api->lux) (3.2.0)\n",
      "Requirement already satisfied: pycodestyle>=2.7.0 in c:\\users\\thiresh sidda\\anaconda3\\lib\\site-packages (from autopep8>=1.5->lux-api->lux) (2.7.0)\n",
      "Requirement already satisfied: toml in c:\\users\\thiresh sidda\\anaconda3\\lib\\site-packages (from autopep8>=1.5->lux-api->lux) (0.10.2)\n",
      "Requirement already satisfied: attrs>=17.4.0 in c:\\users\\thiresh sidda\\anaconda3\\lib\\site-packages (from jsonschema>=3.0->altair>=4.0.0->lux-api->lux) (21.2.0)\n",
      "Requirement already satisfied: pyrsistent>=0.14.0 in c:\\users\\thiresh sidda\\anaconda3\\lib\\site-packages (from jsonschema>=3.0->altair>=4.0.0->lux-api->lux) (0.18.0)\n",
      "Requirement already satisfied: setuptools in c:\\users\\thiresh sidda\\anaconda3\\lib\\site-packages (from jsonschema>=3.0->altair>=4.0.0->lux-api->lux) (58.0.4)\n",
      "Requirement already satisfied: six>=1.11.0 in c:\\users\\thiresh sidda\\anaconda3\\lib\\site-packages (from jsonschema>=3.0->altair>=4.0.0->lux-api->lux) (1.16.0)\n",
      "Requirement already satisfied: notebook>=4.0.0 in c:\\users\\thiresh sidda\\anaconda3\\lib\\site-packages (from lux-widget->lux) (6.4.5)\n",
      "Requirement already satisfied: ipywidgets>=7.5.0 in c:\\users\\thiresh sidda\\anaconda3\\lib\\site-packages (from lux-widget->lux) (7.6.5)\n",
      "Requirement already satisfied: jupyterlab-widgets>=1.0.0 in c:\\users\\thiresh sidda\\anaconda3\\lib\\site-packages (from ipywidgets>=7.5.0->lux-widget->lux) (1.0.0)\n",
      "Requirement already satisfied: ipython-genutils~=0.2.0 in c:\\users\\thiresh sidda\\anaconda3\\lib\\site-packages (from ipywidgets>=7.5.0->lux-widget->lux) (0.2.0)\n",
      "Requirement already satisfied: traitlets>=4.3.1 in c:\\users\\thiresh sidda\\anaconda3\\lib\\site-packages (from ipywidgets>=7.5.0->lux-widget->lux) (5.1.0)\n",
      "Requirement already satisfied: nbformat>=4.2.0 in c:\\users\\thiresh sidda\\anaconda3\\lib\\site-packages (from ipywidgets>=7.5.0->lux-widget->lux) (5.1.3)\n",
      "Requirement already satisfied: widgetsnbextension~=3.5.0 in c:\\users\\thiresh sidda\\anaconda3\\lib\\site-packages (from ipywidgets>=7.5.0->lux-widget->lux) (3.5.1)\n",
      "Requirement already satisfied: ipython>=4.0.0 in c:\\users\\thiresh sidda\\anaconda3\\lib\\site-packages (from ipywidgets>=7.5.0->lux-widget->lux) (7.29.0)\n",
      "Requirement already satisfied: ipykernel>=4.5.1 in c:\\users\\thiresh sidda\\anaconda3\\lib\\site-packages (from ipywidgets>=7.5.0->lux-widget->lux) (6.4.1)\n",
      "Requirement already satisfied: tornado<7.0,>=4.2 in c:\\users\\thiresh sidda\\anaconda3\\lib\\site-packages (from ipykernel>=4.5.1->ipywidgets>=7.5.0->lux-widget->lux) (6.1)\n",
      "Requirement already satisfied: matplotlib-inline<0.2.0,>=0.1.0 in c:\\users\\thiresh sidda\\anaconda3\\lib\\site-packages (from ipykernel>=4.5.1->ipywidgets>=7.5.0->lux-widget->lux) (0.1.2)\n",
      "Requirement already satisfied: jupyter-client<8.0 in c:\\users\\thiresh sidda\\anaconda3\\lib\\site-packages (from ipykernel>=4.5.1->ipywidgets>=7.5.0->lux-widget->lux) (6.1.12)\n",
      "Requirement already satisfied: debugpy<2.0,>=1.0.0 in c:\\users\\thiresh sidda\\anaconda3\\lib\\site-packages (from ipykernel>=4.5.1->ipywidgets>=7.5.0->lux-widget->lux) (1.4.1)\n",
      "Requirement already satisfied: backcall in c:\\users\\thiresh sidda\\anaconda3\\lib\\site-packages (from ipython>=4.0.0->ipywidgets>=7.5.0->lux-widget->lux) (0.2.0)\n",
      "Requirement already satisfied: jedi>=0.16 in c:\\users\\thiresh sidda\\anaconda3\\lib\\site-packages (from ipython>=4.0.0->ipywidgets>=7.5.0->lux-widget->lux) (0.18.0)\n",
      "Requirement already satisfied: colorama in c:\\users\\thiresh sidda\\anaconda3\\lib\\site-packages (from ipython>=4.0.0->ipywidgets>=7.5.0->lux-widget->lux) (0.4.4)\n",
      "Requirement already satisfied: decorator in c:\\users\\thiresh sidda\\anaconda3\\lib\\site-packages (from ipython>=4.0.0->ipywidgets>=7.5.0->lux-widget->lux) (5.1.0)\n",
      "Requirement already satisfied: pygments in c:\\users\\thiresh sidda\\anaconda3\\lib\\site-packages (from ipython>=4.0.0->ipywidgets>=7.5.0->lux-widget->lux) (2.10.0)\n",
      "Requirement already satisfied: prompt-toolkit!=3.0.0,!=3.0.1,<3.1.0,>=2.0.0 in c:\\users\\thiresh sidda\\anaconda3\\lib\\site-packages (from ipython>=4.0.0->ipywidgets>=7.5.0->lux-widget->lux) (3.0.20)\n",
      "Requirement already satisfied: pickleshare in c:\\users\\thiresh sidda\\anaconda3\\lib\\site-packages (from ipython>=4.0.0->ipywidgets>=7.5.0->lux-widget->lux) (0.7.5)\n",
      "Requirement already satisfied: parso<0.9.0,>=0.8.0 in c:\\users\\thiresh sidda\\anaconda3\\lib\\site-packages (from jedi>=0.16->ipython>=4.0.0->ipywidgets>=7.5.0->lux-widget->lux) (0.8.2)\n",
      "Requirement already satisfied: pyzmq>=13 in c:\\users\\thiresh sidda\\anaconda3\\lib\\site-packages (from jupyter-client<8.0->ipykernel>=4.5.1->ipywidgets>=7.5.0->lux-widget->lux) (22.2.1)\n",
      "Requirement already satisfied: python-dateutil>=2.1 in c:\\users\\thiresh sidda\\anaconda3\\lib\\site-packages (from jupyter-client<8.0->ipykernel>=4.5.1->ipywidgets>=7.5.0->lux-widget->lux) (2.8.2)\n",
      "Requirement already satisfied: jupyter-core>=4.6.0 in c:\\users\\thiresh sidda\\anaconda3\\lib\\site-packages (from jupyter-client<8.0->ipykernel>=4.5.1->ipywidgets>=7.5.0->lux-widget->lux) (4.8.1)\n",
      "Requirement already satisfied: pywin32>=1.0 in c:\\users\\thiresh sidda\\anaconda3\\lib\\site-packages (from jupyter-core>=4.6.0->jupyter-client<8.0->ipykernel>=4.5.1->ipywidgets>=7.5.0->lux-widget->lux) (228)\n",
      "Requirement already satisfied: pyparsing>=2.2.1 in c:\\users\\thiresh sidda\\anaconda3\\lib\\site-packages (from matplotlib>=3.0.0->lux-api->lux) (3.0.4)\n",
      "Requirement already satisfied: pillow>=6.2.0 in c:\\users\\thiresh sidda\\anaconda3\\lib\\site-packages (from matplotlib>=3.0.0->lux-api->lux) (8.4.0)\n",
      "Requirement already satisfied: cycler>=0.10 in c:\\users\\thiresh sidda\\anaconda3\\lib\\site-packages (from matplotlib>=3.0.0->lux-api->lux) (0.10.0)\n",
      "Requirement already satisfied: kiwisolver>=1.0.1 in c:\\users\\thiresh sidda\\anaconda3\\lib\\site-packages (from matplotlib>=3.0.0->lux-api->lux) (1.3.1)\n",
      "Requirement already satisfied: nbconvert in c:\\users\\thiresh sidda\\anaconda3\\lib\\site-packages (from notebook>=4.0.0->lux-widget->lux) (6.1.0)\n",
      "Requirement already satisfied: Send2Trash>=1.5.0 in c:\\users\\thiresh sidda\\anaconda3\\lib\\site-packages (from notebook>=4.0.0->lux-widget->lux) (1.8.0)\n",
      "Requirement already satisfied: argon2-cffi in c:\\users\\thiresh sidda\\anaconda3\\lib\\site-packages (from notebook>=4.0.0->lux-widget->lux) (20.1.0)\n",
      "Requirement already satisfied: terminado>=0.8.3 in c:\\users\\thiresh sidda\\anaconda3\\lib\\site-packages (from notebook>=4.0.0->lux-widget->lux) (0.9.4)\n",
      "Requirement already satisfied: prometheus-client in c:\\users\\thiresh sidda\\anaconda3\\lib\\site-packages (from notebook>=4.0.0->lux-widget->lux) (0.11.0)\n",
      "Requirement already satisfied: pytz>=2017.3 in c:\\users\\thiresh sidda\\anaconda3\\lib\\site-packages (from pandas->lux-api->lux) (2021.3)\n",
      "Requirement already satisfied: wcwidth in c:\\users\\thiresh sidda\\anaconda3\\lib\\site-packages (from prompt-toolkit!=3.0.0,!=3.0.1,<3.1.0,>=2.0.0->ipython>=4.0.0->ipywidgets>=7.5.0->lux-widget->lux) (0.2.5)\n",
      "Requirement already satisfied: threadpoolctl>=2.0.0 in c:\\users\\thiresh sidda\\anaconda3\\lib\\site-packages (from scikit-learn>=0.22->lux-api->lux) (2.2.0)\n",
      "Requirement already satisfied: joblib>=0.11 in c:\\users\\thiresh sidda\\anaconda3\\lib\\site-packages (from scikit-learn>=0.22->lux-api->lux) (1.0.1)\n",
      "Requirement already satisfied: pywinpty>=0.5 in c:\\users\\thiresh sidda\\anaconda3\\lib\\site-packages (from terminado>=0.8.3->notebook>=4.0.0->lux-widget->lux) (0.5.7)\n",
      "Requirement already satisfied: cffi>=1.0.0 in c:\\users\\thiresh sidda\\anaconda3\\lib\\site-packages (from argon2-cffi->notebook>=4.0.0->lux-widget->lux) (1.14.6)\n",
      "Requirement already satisfied: pycparser in c:\\users\\thiresh sidda\\anaconda3\\lib\\site-packages (from cffi>=1.0.0->argon2-cffi->notebook>=4.0.0->lux-widget->lux) (2.20)\n",
      "Requirement already satisfied: MarkupSafe>=2.0 in c:\\users\\thiresh sidda\\anaconda3\\lib\\site-packages (from jinja2->altair>=4.0.0->lux-api->lux) (2.0.1)\n",
      "Requirement already satisfied: mistune<2,>=0.8.1 in c:\\users\\thiresh sidda\\anaconda3\\lib\\site-packages (from nbconvert->notebook>=4.0.0->lux-widget->lux) (0.8.4)\n",
      "Requirement already satisfied: defusedxml in c:\\users\\thiresh sidda\\anaconda3\\lib\\site-packages (from nbconvert->notebook>=4.0.0->lux-widget->lux) (0.7.1)\n",
      "Requirement already satisfied: jupyterlab-pygments in c:\\users\\thiresh sidda\\anaconda3\\lib\\site-packages (from nbconvert->notebook>=4.0.0->lux-widget->lux) (0.1.2)\n"
     ]
    },
    {
     "name": "stderr",
     "output_type": "stream",
     "text": [
      "WARNING: Ignoring invalid distribution -lask (c:\\users\\thiresh sidda\\anaconda3\\lib\\site-packages)\n",
      "WARNING: Ignoring invalid distribution -lask (c:\\users\\thiresh sidda\\anaconda3\\lib\\site-packages)\n",
      "WARNING: Ignoring invalid distribution -lask (c:\\users\\thiresh sidda\\anaconda3\\lib\\site-packages)\n",
      "    WARNING: Ignoring invalid distribution -lask (c:\\users\\thiresh sidda\\anaconda3\\lib\\site-packages)\n",
      "WARNING: Ignoring invalid distribution -lask (c:\\users\\thiresh sidda\\anaconda3\\lib\\site-packages)\n",
      "WARNING: Ignoring invalid distribution -lask (c:\\users\\thiresh sidda\\anaconda3\\lib\\site-packages)\n",
      "WARNING: Ignoring invalid distribution -lask (c:\\users\\thiresh sidda\\anaconda3\\lib\\site-packages)\n",
      "WARNING: Ignoring invalid distribution -lask (c:\\users\\thiresh sidda\\anaconda3\\lib\\site-packages)\n",
      "WARNING: Ignoring invalid distribution -lask (c:\\users\\thiresh sidda\\anaconda3\\lib\\site-packages)\n",
      "WARNING: Ignoring invalid distribution -lask (c:\\users\\thiresh sidda\\anaconda3\\lib\\site-packages)\n",
      "WARNING: Ignoring invalid distribution -lask (c:\\users\\thiresh sidda\\anaconda3\\lib\\site-packages)\n",
      "ERROR: pip's dependency resolver does not currently take into account all the packages that are installed. This behaviour is the source of the following dependency conflicts.\n",
      "spyder 5.1.5 requires pyqt5<5.13, which is not installed.\n",
      "spyder 5.1.5 requires pyqtwebengine<5.13, which is not installed.\n",
      "WARNING: Ignoring invalid distribution -lask (c:\\users\\thiresh sidda\\anaconda3\\lib\\site-packages)\n",
      "WARNING: Ignoring invalid distribution -lask (c:\\users\\thiresh sidda\\anaconda3\\lib\\site-packages)\n",
      "WARNING: Ignoring invalid distribution -lask (c:\\users\\thiresh sidda\\anaconda3\\lib\\site-packages)\n"
     ]
    },
    {
     "name": "stdout",
     "output_type": "stream",
     "text": [
      "Requirement already satisfied: nbclient<0.6.0,>=0.5.0 in c:\\users\\thiresh sidda\\anaconda3\\lib\\site-packages (from nbconvert->notebook>=4.0.0->lux-widget->lux) (0.5.3)\n",
      "Requirement already satisfied: pandocfilters>=1.4.1 in c:\\users\\thiresh sidda\\anaconda3\\lib\\site-packages (from nbconvert->notebook>=4.0.0->lux-widget->lux) (1.4.3)\n",
      "Requirement already satisfied: testpath in c:\\users\\thiresh sidda\\anaconda3\\lib\\site-packages (from nbconvert->notebook>=4.0.0->lux-widget->lux) (0.5.0)\n",
      "Requirement already satisfied: bleach in c:\\users\\thiresh sidda\\anaconda3\\lib\\site-packages (from nbconvert->notebook>=4.0.0->lux-widget->lux) (4.0.0)\n",
      "Requirement already satisfied: async-generator in c:\\users\\thiresh sidda\\anaconda3\\lib\\site-packages (from nbclient<0.6.0,>=0.5.0->nbconvert->notebook>=4.0.0->lux-widget->lux) (1.10)\n",
      "Requirement already satisfied: nest-asyncio in c:\\users\\thiresh sidda\\anaconda3\\lib\\site-packages (from nbclient<0.6.0,>=0.5.0->nbconvert->notebook>=4.0.0->lux-widget->lux) (1.5.1)\n",
      "Requirement already satisfied: packaging in c:\\users\\thiresh sidda\\anaconda3\\lib\\site-packages (from bleach->nbconvert->notebook>=4.0.0->lux-widget->lux) (21.0)\n",
      "Requirement already satisfied: webencodings in c:\\users\\thiresh sidda\\anaconda3\\lib\\site-packages (from bleach->nbconvert->notebook>=4.0.0->lux-widget->lux) (0.5.1)\n",
      "Building wheels for collected packages: lux, lux-api, lux-widget\n",
      "  Building wheel for lux (setup.py): started\n",
      "  Building wheel for lux (setup.py): finished with status 'done'\n",
      "  Created wheel for lux: filename=lux-0.5.1-py3-none-any.whl size=11979 sha256=94b12e92f4e2e5fe986766f4aad5295ee8746bf3abc846b296daf96b474c7fc3\n",
      "  Stored in directory: c:\\users\\thiresh sidda\\appdata\\local\\pip\\cache\\wheels\\eb\\1a\\ea\\63737a35e77092f9238a1b023851b69f34270754063317527d\n",
      "  Building wheel for lux-api (PEP 517): started\n",
      "  Building wheel for lux-api (PEP 517): finished with status 'done'\n",
      "  Created wheel for lux-api: filename=lux_api-0.5.1-py3-none-any.whl size=185620 sha256=94f62e136d5f7aabf2b2cd086abaa64854f035cc032d8a0c9f3a063ffb022bbc\n",
      "  Stored in directory: c:\\users\\thiresh sidda\\appdata\\local\\pip\\cache\\wheels\\bd\\05\\a4\\441d23d1cece85d6cd3cec43b38896e88a729e8048138825bd\n",
      "  Building wheel for lux-widget (setup.py): started\n",
      "  Building wheel for lux-widget (setup.py): finished with status 'done'\n",
      "  Created wheel for lux-widget: filename=lux_widget-0.1.11-py3-none-any.whl size=2540458 sha256=8ac01afcfd5c30f5a9ca7565030d644c9d185e14d48f82d73b7c5f201921c23f\n",
      "  Stored in directory: c:\\users\\thiresh sidda\\appdata\\local\\pip\\cache\\wheels\\03\\dd\\c3\\286c3ca89a08533a99b0eb3f6e9a4b4c23476202c5a3fd622e\n",
      "Successfully built lux lux-api lux-widget\n",
      "Installing collected packages: sh, psutil, lux-widget, iso3166, altair, lux-api, lux\n",
      "  Attempting uninstall: psutil\n",
      "    Found existing installation: psutil 5.8.0\n",
      "    Uninstalling psutil-5.8.0:\n",
      "      Successfully uninstalled psutil-5.8.0\n",
      "Successfully installed altair-4.2.0 iso3166-2.0.2 lux-0.5.1 lux-api-0.5.1 lux-widget-0.1.11 psutil-5.9.0 sh-1.14.2\n"
     ]
    }
   ],
   "source": [
    "#LUX\n",
    "!pip install lux"
   ]
  },
  {
   "cell_type": "code",
   "execution_count": null,
   "id": "31e29781",
   "metadata": {},
   "outputs": [],
   "source": [
    "import lux\n",
    "lux\n",
    "#May be it is a paid platform,can't be use in JUPYTER"
   ]
  },
  {
   "cell_type": "code",
   "execution_count": null,
   "id": "e59ceac6",
   "metadata": {},
   "outputs": [],
   "source": []
  },
  {
   "cell_type": "markdown",
   "id": "98453503",
   "metadata": {},
   "source": [
    "# Pandas_visual_analysis\n"
   ]
  },
  {
   "cell_type": "code",
   "execution_count": 21,
   "id": "7e4ea188",
   "metadata": {},
   "outputs": [
    {
     "name": "stdout",
     "output_type": "stream",
     "text": [
      "Collecting Pandas_visual_analysis\n",
      "  Downloading pandas_visual_analysis-0.0.4-py3-none-any.whl (34 kB)\n",
      "Requirement already satisfied: pandas>=1.1.0 in c:\\users\\thiresh sidda\\anaconda3\\lib\\site-packages (from Pandas_visual_analysis) (1.3.4)\n",
      "Requirement already satisfied: plotly>=4.10.0 in c:\\users\\thiresh sidda\\anaconda3\\lib\\site-packages (from Pandas_visual_analysis) (5.7.0)\n",
      "Requirement already satisfied: setuptools>=49.2.0 in c:\\users\\thiresh sidda\\anaconda3\\lib\\site-packages (from Pandas_visual_analysis) (58.0.4)\n",
      "Requirement already satisfied: numpy>=1.19.1 in c:\\users\\thiresh sidda\\anaconda3\\lib\\site-packages (from Pandas_visual_analysis) (1.22.3)\n",
      "Requirement already satisfied: ipywidgets>=7.5.1 in c:\\users\\thiresh sidda\\anaconda3\\lib\\site-packages (from Pandas_visual_analysis) (7.6.5)\n",
      "Collecting blinker>=1.4\n",
      "  Downloading blinker-1.4.tar.gz (111 kB)\n",
      "Requirement already satisfied: jupyterlab-widgets>=1.0.0 in c:\\users\\thiresh sidda\\anaconda3\\lib\\site-packages (from ipywidgets>=7.5.1->Pandas_visual_analysis) (1.0.0)\n",
      "Requirement already satisfied: ipykernel>=4.5.1 in c:\\users\\thiresh sidda\\anaconda3\\lib\\site-packages (from ipywidgets>=7.5.1->Pandas_visual_analysis) (6.4.1)\n",
      "Requirement already satisfied: nbformat>=4.2.0 in c:\\users\\thiresh sidda\\anaconda3\\lib\\site-packages (from ipywidgets>=7.5.1->Pandas_visual_analysis) (5.1.3)\n",
      "Requirement already satisfied: ipython>=4.0.0 in c:\\users\\thiresh sidda\\anaconda3\\lib\\site-packages (from ipywidgets>=7.5.1->Pandas_visual_analysis) (7.29.0)\n",
      "Requirement already satisfied: ipython-genutils~=0.2.0 in c:\\users\\thiresh sidda\\anaconda3\\lib\\site-packages (from ipywidgets>=7.5.1->Pandas_visual_analysis) (0.2.0)\n",
      "Requirement already satisfied: widgetsnbextension~=3.5.0 in c:\\users\\thiresh sidda\\anaconda3\\lib\\site-packages (from ipywidgets>=7.5.1->Pandas_visual_analysis) (3.5.1)\n",
      "Requirement already satisfied: traitlets>=4.3.1 in c:\\users\\thiresh sidda\\anaconda3\\lib\\site-packages (from ipywidgets>=7.5.1->Pandas_visual_analysis) (5.1.0)\n",
      "Requirement already satisfied: jupyter-client<8.0 in c:\\users\\thiresh sidda\\anaconda3\\lib\\site-packages (from ipykernel>=4.5.1->ipywidgets>=7.5.1->Pandas_visual_analysis) (6.1.12)\n",
      "Requirement already satisfied: matplotlib-inline<0.2.0,>=0.1.0 in c:\\users\\thiresh sidda\\anaconda3\\lib\\site-packages (from ipykernel>=4.5.1->ipywidgets>=7.5.1->Pandas_visual_analysis) (0.1.2)\n",
      "Requirement already satisfied: tornado<7.0,>=4.2 in c:\\users\\thiresh sidda\\anaconda3\\lib\\site-packages (from ipykernel>=4.5.1->ipywidgets>=7.5.1->Pandas_visual_analysis) (6.1)\n",
      "Requirement already satisfied: debugpy<2.0,>=1.0.0 in c:\\users\\thiresh sidda\\anaconda3\\lib\\site-packages (from ipykernel>=4.5.1->ipywidgets>=7.5.1->Pandas_visual_analysis) (1.4.1)\n",
      "Requirement already satisfied: decorator in c:\\users\\thiresh sidda\\anaconda3\\lib\\site-packages (from ipython>=4.0.0->ipywidgets>=7.5.1->Pandas_visual_analysis) (5.1.0)\n",
      "Requirement already satisfied: backcall in c:\\users\\thiresh sidda\\anaconda3\\lib\\site-packages (from ipython>=4.0.0->ipywidgets>=7.5.1->Pandas_visual_analysis) (0.2.0)\n",
      "Requirement already satisfied: pygments in c:\\users\\thiresh sidda\\anaconda3\\lib\\site-packages (from ipython>=4.0.0->ipywidgets>=7.5.1->Pandas_visual_analysis) (2.10.0)\n",
      "Requirement already satisfied: colorama in c:\\users\\thiresh sidda\\anaconda3\\lib\\site-packages (from ipython>=4.0.0->ipywidgets>=7.5.1->Pandas_visual_analysis) (0.4.4)\n",
      "Requirement already satisfied: jedi>=0.16 in c:\\users\\thiresh sidda\\anaconda3\\lib\\site-packages (from ipython>=4.0.0->ipywidgets>=7.5.1->Pandas_visual_analysis) (0.18.0)\n",
      "Requirement already satisfied: pickleshare in c:\\users\\thiresh sidda\\anaconda3\\lib\\site-packages (from ipython>=4.0.0->ipywidgets>=7.5.1->Pandas_visual_analysis) (0.7.5)\n",
      "Requirement already satisfied: prompt-toolkit!=3.0.0,!=3.0.1,<3.1.0,>=2.0.0 in c:\\users\\thiresh sidda\\anaconda3\\lib\\site-packages (from ipython>=4.0.0->ipywidgets>=7.5.1->Pandas_visual_analysis) (3.0.20)\n",
      "Requirement already satisfied: parso<0.9.0,>=0.8.0 in c:\\users\\thiresh sidda\\anaconda3\\lib\\site-packages (from jedi>=0.16->ipython>=4.0.0->ipywidgets>=7.5.1->Pandas_visual_analysis) (0.8.2)\n",
      "Requirement already satisfied: python-dateutil>=2.1 in c:\\users\\thiresh sidda\\anaconda3\\lib\\site-packages (from jupyter-client<8.0->ipykernel>=4.5.1->ipywidgets>=7.5.1->Pandas_visual_analysis) (2.8.2)\n",
      "Requirement already satisfied: jupyter-core>=4.6.0 in c:\\users\\thiresh sidda\\anaconda3\\lib\\site-packages (from jupyter-client<8.0->ipykernel>=4.5.1->ipywidgets>=7.5.1->Pandas_visual_analysis) (4.8.1)\n",
      "Requirement already satisfied: pyzmq>=13 in c:\\users\\thiresh sidda\\anaconda3\\lib\\site-packages (from jupyter-client<8.0->ipykernel>=4.5.1->ipywidgets>=7.5.1->Pandas_visual_analysis) (22.2.1)\n",
      "Requirement already satisfied: pywin32>=1.0 in c:\\users\\thiresh sidda\\anaconda3\\lib\\site-packages (from jupyter-core>=4.6.0->jupyter-client<8.0->ipykernel>=4.5.1->ipywidgets>=7.5.1->Pandas_visual_analysis) (228)\n",
      "Requirement already satisfied: jsonschema!=2.5.0,>=2.4 in c:\\users\\thiresh sidda\\anaconda3\\lib\\site-packages (from nbformat>=4.2.0->ipywidgets>=7.5.1->Pandas_visual_analysis) (3.2.0)\n",
      "Requirement already satisfied: attrs>=17.4.0 in c:\\users\\thiresh sidda\\anaconda3\\lib\\site-packages (from jsonschema!=2.5.0,>=2.4->nbformat>=4.2.0->ipywidgets>=7.5.1->Pandas_visual_analysis) (21.2.0)\n",
      "Requirement already satisfied: pyrsistent>=0.14.0 in c:\\users\\thiresh sidda\\anaconda3\\lib\\site-packages (from jsonschema!=2.5.0,>=2.4->nbformat>=4.2.0->ipywidgets>=7.5.1->Pandas_visual_analysis) (0.18.0)\n",
      "Requirement already satisfied: six>=1.11.0 in c:\\users\\thiresh sidda\\anaconda3\\lib\\site-packages (from jsonschema!=2.5.0,>=2.4->nbformat>=4.2.0->ipywidgets>=7.5.1->Pandas_visual_analysis) (1.16.0)\n",
      "Requirement already satisfied: pytz>=2017.3 in c:\\users\\thiresh sidda\\anaconda3\\lib\\site-packages (from pandas>=1.1.0->Pandas_visual_analysis) (2021.3)\n",
      "Requirement already satisfied: tenacity>=6.2.0 in c:\\users\\thiresh sidda\\anaconda3\\lib\\site-packages (from plotly>=4.10.0->Pandas_visual_analysis) (8.0.1)"
     ]
    },
    {
     "name": "stderr",
     "output_type": "stream",
     "text": [
      "WARNING: Ignoring invalid distribution -lask (c:\\users\\thiresh sidda\\anaconda3\\lib\\site-packages)\n",
      "WARNING: Ignoring invalid distribution -lask (c:\\users\\thiresh sidda\\anaconda3\\lib\\site-packages)\n",
      "WARNING: Ignoring invalid distribution -lask (c:\\users\\thiresh sidda\\anaconda3\\lib\\site-packages)\n",
      "WARNING: Ignoring invalid distribution -lask (c:\\users\\thiresh sidda\\anaconda3\\lib\\site-packages)\n",
      "WARNING: Ignoring invalid distribution -lask (c:\\users\\thiresh sidda\\anaconda3\\lib\\site-packages)\n",
      "WARNING: Ignoring invalid distribution -lask (c:\\users\\thiresh sidda\\anaconda3\\lib\\site-packages)\n",
      "WARNING: Ignoring invalid distribution -lask (c:\\users\\thiresh sidda\\anaconda3\\lib\\site-packages)\n",
      "WARNING: Ignoring invalid distribution -lask (c:\\users\\thiresh sidda\\anaconda3\\lib\\site-packages)\n"
     ]
    },
    {
     "name": "stdout",
     "output_type": "stream",
     "text": [
      "\n",
      "Requirement already satisfied: wcwidth in c:\\users\\thiresh sidda\\anaconda3\\lib\\site-packages (from prompt-toolkit!=3.0.0,!=3.0.1,<3.1.0,>=2.0.0->ipython>=4.0.0->ipywidgets>=7.5.1->Pandas_visual_analysis) (0.2.5)\n",
      "Requirement already satisfied: notebook>=4.4.1 in c:\\users\\thiresh sidda\\anaconda3\\lib\\site-packages (from widgetsnbextension~=3.5.0->ipywidgets>=7.5.1->Pandas_visual_analysis) (6.4.5)\n",
      "Requirement already satisfied: jinja2 in c:\\users\\thiresh sidda\\anaconda3\\lib\\site-packages (from notebook>=4.4.1->widgetsnbextension~=3.5.0->ipywidgets>=7.5.1->Pandas_visual_analysis) (3.1.2)\n",
      "Requirement already satisfied: terminado>=0.8.3 in c:\\users\\thiresh sidda\\anaconda3\\lib\\site-packages (from notebook>=4.4.1->widgetsnbextension~=3.5.0->ipywidgets>=7.5.1->Pandas_visual_analysis) (0.9.4)\n",
      "Requirement already satisfied: prometheus-client in c:\\users\\thiresh sidda\\anaconda3\\lib\\site-packages (from notebook>=4.4.1->widgetsnbextension~=3.5.0->ipywidgets>=7.5.1->Pandas_visual_analysis) (0.11.0)\n",
      "Requirement already satisfied: Send2Trash>=1.5.0 in c:\\users\\thiresh sidda\\anaconda3\\lib\\site-packages (from notebook>=4.4.1->widgetsnbextension~=3.5.0->ipywidgets>=7.5.1->Pandas_visual_analysis) (1.8.0)\n",
      "Requirement already satisfied: argon2-cffi in c:\\users\\thiresh sidda\\anaconda3\\lib\\site-packages (from notebook>=4.4.1->widgetsnbextension~=3.5.0->ipywidgets>=7.5.1->Pandas_visual_analysis) (20.1.0)\n",
      "Requirement already satisfied: nbconvert in c:\\users\\thiresh sidda\\anaconda3\\lib\\site-packages (from notebook>=4.4.1->widgetsnbextension~=3.5.0->ipywidgets>=7.5.1->Pandas_visual_analysis) (6.1.0)\n",
      "Requirement already satisfied: pywinpty>=0.5 in c:\\users\\thiresh sidda\\anaconda3\\lib\\site-packages (from terminado>=0.8.3->notebook>=4.4.1->widgetsnbextension~=3.5.0->ipywidgets>=7.5.1->Pandas_visual_analysis) (0.5.7)\n",
      "Requirement already satisfied: cffi>=1.0.0 in c:\\users\\thiresh sidda\\anaconda3\\lib\\site-packages (from argon2-cffi->notebook>=4.4.1->widgetsnbextension~=3.5.0->ipywidgets>=7.5.1->Pandas_visual_analysis) (1.14.6)\n",
      "Requirement already satisfied: pycparser in c:\\users\\thiresh sidda\\anaconda3\\lib\\site-packages (from cffi>=1.0.0->argon2-cffi->notebook>=4.4.1->widgetsnbextension~=3.5.0->ipywidgets>=7.5.1->Pandas_visual_analysis) (2.20)\n",
      "Requirement already satisfied: MarkupSafe>=2.0 in c:\\users\\thiresh sidda\\anaconda3\\lib\\site-packages (from jinja2->notebook>=4.4.1->widgetsnbextension~=3.5.0->ipywidgets>=7.5.1->Pandas_visual_analysis) (2.0.1)\n",
      "Requirement already satisfied: nbclient<0.6.0,>=0.5.0 in c:\\users\\thiresh sidda\\anaconda3\\lib\\site-packages (from nbconvert->notebook>=4.4.1->widgetsnbextension~=3.5.0->ipywidgets>=7.5.1->Pandas_visual_analysis) (0.5.3)\n",
      "Requirement already satisfied: entrypoints>=0.2.2 in c:\\users\\thiresh sidda\\anaconda3\\lib\\site-packages (from nbconvert->notebook>=4.4.1->widgetsnbextension~=3.5.0->ipywidgets>=7.5.1->Pandas_visual_analysis) (0.3)\n",
      "Requirement already satisfied: bleach in c:\\users\\thiresh sidda\\anaconda3\\lib\\site-packages (from nbconvert->notebook>=4.4.1->widgetsnbextension~=3.5.0->ipywidgets>=7.5.1->Pandas_visual_analysis) (4.0.0)\n",
      "Requirement already satisfied: jupyterlab-pygments in c:\\users\\thiresh sidda\\anaconda3\\lib\\site-packages (from nbconvert->notebook>=4.4.1->widgetsnbextension~=3.5.0->ipywidgets>=7.5.1->Pandas_visual_analysis) (0.1.2)\n",
      "Requirement already satisfied: mistune<2,>=0.8.1 in c:\\users\\thiresh sidda\\anaconda3\\lib\\site-packages (from nbconvert->notebook>=4.4.1->widgetsnbextension~=3.5.0->ipywidgets>=7.5.1->Pandas_visual_analysis) (0.8.4)\n",
      "Requirement already satisfied: defusedxml in c:\\users\\thiresh sidda\\anaconda3\\lib\\site-packages (from nbconvert->notebook>=4.4.1->widgetsnbextension~=3.5.0->ipywidgets>=7.5.1->Pandas_visual_analysis) (0.7.1)\n",
      "Requirement already satisfied: testpath in c:\\users\\thiresh sidda\\anaconda3\\lib\\site-packages (from nbconvert->notebook>=4.4.1->widgetsnbextension~=3.5.0->ipywidgets>=7.5.1->Pandas_visual_analysis) (0.5.0)\n",
      "Requirement already satisfied: pandocfilters>=1.4.1 in c:\\users\\thiresh sidda\\anaconda3\\lib\\site-packages (from nbconvert->notebook>=4.4.1->widgetsnbextension~=3.5.0->ipywidgets>=7.5.1->Pandas_visual_analysis) (1.4.3)\n",
      "Requirement already satisfied: nest-asyncio in c:\\users\\thiresh sidda\\anaconda3\\lib\\site-packages (from nbclient<0.6.0,>=0.5.0->nbconvert->notebook>=4.4.1->widgetsnbextension~=3.5.0->ipywidgets>=7.5.1->Pandas_visual_analysis) (1.5.1)\n",
      "Requirement already satisfied: async-generator in c:\\users\\thiresh sidda\\anaconda3\\lib\\site-packages (from nbclient<0.6.0,>=0.5.0->nbconvert->notebook>=4.4.1->widgetsnbextension~=3.5.0->ipywidgets>=7.5.1->Pandas_visual_analysis) (1.10)\n",
      "Requirement already satisfied: webencodings in c:\\users\\thiresh sidda\\anaconda3\\lib\\site-packages (from bleach->nbconvert->notebook>=4.4.1->widgetsnbextension~=3.5.0->ipywidgets>=7.5.1->Pandas_visual_analysis) (0.5.1)\n",
      "Requirement already satisfied: packaging in c:\\users\\thiresh sidda\\anaconda3\\lib\\site-packages (from bleach->nbconvert->notebook>=4.4.1->widgetsnbextension~=3.5.0->ipywidgets>=7.5.1->Pandas_visual_analysis) (21.0)\n",
      "Requirement already satisfied: pyparsing>=2.0.2 in c:\\users\\thiresh sidda\\anaconda3\\lib\\site-packages (from packaging->bleach->nbconvert->notebook>=4.4.1->widgetsnbextension~=3.5.0->ipywidgets>=7.5.1->Pandas_visual_analysis) (3.0.4)\n",
      "Building wheels for collected packages: blinker\n",
      "  Building wheel for blinker (setup.py): started\n",
      "  Building wheel for blinker (setup.py): finished with status 'done'\n",
      "  Created wheel for blinker: filename=blinker-1.4-py3-none-any.whl size=13478 sha256=f884ce889525c8ebeb512595e23f4d8df5ef974a6b9462f7da8cc4b363caf4d1\n",
      "  Stored in directory: c:\\users\\thiresh sidda\\appdata\\local\\pip\\cache\\wheels\\50\\93\\f8\\4f0a42a03a06626d675f13907b6982ad5ecff383530af5a900\n",
      "Successfully built blinker\n",
      "Installing collected packages: blinker, Pandas-visual-analysis\n",
      "Successfully installed Pandas-visual-analysis-0.0.4 blinker-1.4\n"
     ]
    }
   ],
   "source": [
    "!pip install Pandas_visual_analysis"
   ]
  },
  {
   "cell_type": "code",
   "execution_count": null,
   "id": "fa9011b8",
   "metadata": {},
   "outputs": [],
   "source": [
    "from pandas_visual_analysis import VisualAnalysis"
   ]
  },
  {
   "cell_type": "code",
   "execution_count": null,
   "id": "97544712",
   "metadata": {},
   "outputs": [],
   "source": []
  },
  {
   "cell_type": "code",
   "execution_count": null,
   "id": "fa2f0f96",
   "metadata": {},
   "outputs": [],
   "source": []
  },
  {
   "cell_type": "code",
   "execution_count": null,
   "id": "61c20852",
   "metadata": {},
   "outputs": [],
   "source": []
  },
  {
   "cell_type": "code",
   "execution_count": null,
   "id": "e1d3552e",
   "metadata": {},
   "outputs": [],
   "source": []
  },
  {
   "cell_type": "code",
   "execution_count": null,
   "id": "b8128c07",
   "metadata": {},
   "outputs": [],
   "source": []
  },
  {
   "cell_type": "code",
   "execution_count": null,
   "id": "d42a005b",
   "metadata": {},
   "outputs": [],
   "source": []
  },
  {
   "cell_type": "code",
   "execution_count": null,
   "id": "aa830915",
   "metadata": {},
   "outputs": [],
   "source": []
  },
  {
   "cell_type": "code",
   "execution_count": null,
   "id": "84d1f71d",
   "metadata": {},
   "outputs": [],
   "source": []
  },
  {
   "cell_type": "code",
   "execution_count": null,
   "id": "a221a4dd",
   "metadata": {},
   "outputs": [],
   "source": []
  },
  {
   "cell_type": "code",
   "execution_count": null,
   "id": "3b481060",
   "metadata": {},
   "outputs": [],
   "source": []
  },
  {
   "cell_type": "code",
   "execution_count": null,
   "id": "d0f5b537",
   "metadata": {},
   "outputs": [],
   "source": []
  },
  {
   "cell_type": "code",
   "execution_count": null,
   "id": "c04dcb95",
   "metadata": {},
   "outputs": [],
   "source": []
  },
  {
   "cell_type": "code",
   "execution_count": null,
   "id": "27d51b67",
   "metadata": {},
   "outputs": [],
   "source": []
  },
  {
   "cell_type": "code",
   "execution_count": null,
   "id": "598e436c",
   "metadata": {},
   "outputs": [],
   "source": []
  },
  {
   "cell_type": "code",
   "execution_count": null,
   "id": "7ef413c3",
   "metadata": {},
   "outputs": [],
   "source": []
  },
  {
   "cell_type": "code",
   "execution_count": null,
   "id": "d153d503",
   "metadata": {},
   "outputs": [],
   "source": []
  },
  {
   "cell_type": "code",
   "execution_count": null,
   "id": "18364c76",
   "metadata": {},
   "outputs": [],
   "source": []
  },
  {
   "cell_type": "code",
   "execution_count": null,
   "id": "28c7a02c",
   "metadata": {},
   "outputs": [],
   "source": []
  },
  {
   "cell_type": "code",
   "execution_count": null,
   "id": "2b83b6a0",
   "metadata": {},
   "outputs": [],
   "source": []
  },
  {
   "cell_type": "code",
   "execution_count": null,
   "id": "827c162c",
   "metadata": {},
   "outputs": [],
   "source": []
  },
  {
   "cell_type": "code",
   "execution_count": null,
   "id": "69436fa6",
   "metadata": {},
   "outputs": [],
   "source": []
  },
  {
   "cell_type": "code",
   "execution_count": null,
   "id": "37700ad9",
   "metadata": {},
   "outputs": [],
   "source": []
  },
  {
   "cell_type": "code",
   "execution_count": null,
   "id": "ac27ba40",
   "metadata": {},
   "outputs": [],
   "source": []
  },
  {
   "cell_type": "code",
   "execution_count": null,
   "id": "764a1d2a",
   "metadata": {},
   "outputs": [],
   "source": []
  }
 ],
 "metadata": {
  "kernelspec": {
   "display_name": "Python 3 (ipykernel)",
   "language": "python",
   "name": "python3"
  },
  "language_info": {
   "codemirror_mode": {
    "name": "ipython",
    "version": 3
   },
   "file_extension": ".py",
   "mimetype": "text/x-python",
   "name": "python",
   "nbconvert_exporter": "python",
   "pygments_lexer": "ipython3",
   "version": "3.9.7"
  }
 },
 "nbformat": 4,
 "nbformat_minor": 5
}
